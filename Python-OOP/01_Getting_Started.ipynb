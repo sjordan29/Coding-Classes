{
 "cells": [
  {
   "cell_type": "markdown",
   "id": "6caf1aa1-6f2d-466a-9e61-f9767dc03e97",
   "metadata": {},
   "source": [
    "# Classes and Objects\n",
    "\n",
    "## Challenge 1: Square Numbers and Return Sum\n",
    "\n",
    "Implement a class `Point` that has three properties and a method. All these attributes (properties and methods) should be public. This problem can be broken down into two tasks:\n",
    "* Implement a constructor to innitialize the values of three properties: `x`, `y`, and `z`\n",
    "* Impelment a method, `sqSum()` in the `Point` class which squares `x`, `y`, and `z` and returns their sum. "
   ]
  },
  {
   "cell_type": "code",
   "execution_count": 1,
   "id": "313dde18-fa6f-4cd5-9a13-02d7f7c65e45",
   "metadata": {},
   "outputs": [],
   "source": [
    "class Point:\n",
    "    def __init__(self, x, y, z):\n",
    "        self.x = x\n",
    "        self.y = y\n",
    "        self.z = z\n",
    "    \n",
    "    def sqSum(self):\n",
    "        return self.x**2 + self.y**2 + self.z**2"
   ]
  },
  {
   "cell_type": "code",
   "execution_count": 2,
   "id": "fe8faf6a-e6cd-4d0c-8aff-4219e8415cd7",
   "metadata": {},
   "outputs": [
    {
     "name": "stdout",
     "output_type": "stream",
     "text": [
      "29\n"
     ]
    }
   ],
   "source": [
    "p1 = Point(2, 3, 4)\n",
    "ss = p1.sqSum()\n",
    "print(ss)"
   ]
  },
  {
   "cell_type": "markdown",
   "id": "d623ab9b-871f-416f-aa22-18274aa4b4de",
   "metadata": {},
   "source": [
    "## Challenge 2: Calculate the Student's Performance \n",
    "Implement a `Student` class that has four properties and two methods. All attributes are public. \n",
    "* Implement a constructor to initialize the values of four properties: `name`, `phy`, `chem`, `bio`\n",
    "* Implement a `totalObtained` method in the `Student` class to calculate total marks of a student\n",
    "* Using `totalObtained`, implement another method, `percentage`, in the `Student` class that calculates the percentage of students marks. Assume the total marks sfo each subject are 100, combined marks of 3 sobjects are 300. "
   ]
  },
  {
   "cell_type": "code",
   "execution_count": 3,
   "id": "4b168a7a-19d7-42ac-989a-808dc6d0e65a",
   "metadata": {},
   "outputs": [],
   "source": [
    "class Student:\n",
    "    def __init__(self, name, phy, chem, bio):\n",
    "        self.name = name\n",
    "        self.phy = phy\n",
    "        self.chem = chem\n",
    "        self.bio = bio\n",
    "\n",
    "    def totalObtained(self):\n",
    "        return self.phy + self.chem + self.bio\n",
    "\n",
    "    def percentage(self):\n",
    "        return self.totalObtained() / 300 * 100\n"
   ]
  },
  {
   "cell_type": "code",
   "execution_count": 4,
   "id": "59bac2eb-7dcd-4e7d-88a8-a908346dc253",
   "metadata": {},
   "outputs": [
    {
     "name": "stdout",
     "output_type": "stream",
     "text": [
      "210\n",
      "70.0\n"
     ]
    }
   ],
   "source": [
    "demo1=Student(\"Mark\",80,90,40)\n",
    "print(demo1.totalObtained())\n",
    "print(demo1.percentage())"
   ]
  },
  {
   "cell_type": "markdown",
   "id": "3aa96e33-39f1-4117-a05c-ab671db02122",
   "metadata": {},
   "source": [
    "## Challenge 3: Implement a Calculator Class\n",
    "Write a Python class called `Calculator` by:\n",
    "* Implement an initializer to intialize the values of num1 and num2\n",
    "* add, subtract, multiply, divide methods "
   ]
  },
  {
   "cell_type": "code",
   "execution_count": 5,
   "id": "51455991-e4cf-4eaf-9a2c-adb457d8f6c4",
   "metadata": {},
   "outputs": [],
   "source": [
    "class Calculator:\n",
    "    def __init__(self, num1, num2):\n",
    "        self.num1 = num1\n",
    "        self.num2 = num2\n",
    "\n",
    "    def add(self):\n",
    "        return self.num1 + self.num2\n",
    "\n",
    "    def subtract(self):\n",
    "        return self.num2 - self.num1\n",
    "\n",
    "    def multiply(self):\n",
    "        return self.num1 * self.num2\n",
    "\n",
    "    def divide(self):\n",
    "        return self.num2 / self.num1\n"
   ]
  },
  {
   "cell_type": "code",
   "execution_count": 7,
   "id": "c2465fb9-bacc-4147-a24b-f03d27534593",
   "metadata": {},
   "outputs": [
    {
     "name": "stdout",
     "output_type": "stream",
     "text": [
      "104\n",
      "84\n",
      "940\n",
      "9.4\n"
     ]
    }
   ],
   "source": [
    "obj = Calculator(10, 94);\n",
    "print(obj.add())\n",
    "print(obj.subtract())\n",
    "print(obj.multiply())\n",
    "print(obj.divide())"
   ]
  },
  {
   "cell_type": "markdown",
   "id": "0bfdf3de-b155-4675-98d4-2f74212c4adf",
   "metadata": {},
   "source": [
    "# Information Hiding\n",
    "\n",
    "**Encapsulation** refers to binding data and the methods that manipulate the data together in a single unit (class). \n",
    "* Convention: declare all variables of a class private. \n",
    "* This only allows one to implement public methods to let the outside world communicate with the class. \n",
    "\n",
    "## Challenge 1: Implement Rectangle Class Using Encapsulation\n",
    "\n",
    "* Implement a constructor to initialize two private properties: `length` and `width`\n",
    "* Implement a method, `area()` in the `Rectangle` class that returns the product of `length` and `width`.\n",
    "* Implement a method, `perimeter` in `Rectangle` that returns the perimeter."
   ]
  },
  {
   "cell_type": "code",
   "execution_count": 1,
   "id": "7846c27c-1966-432e-8b24-5e4796663bf0",
   "metadata": {},
   "outputs": [],
   "source": [
    "class Rectangle:\n",
    "    def __init__(self, length, width):\n",
    "        self.__length = length\n",
    "        self.__width = width\n",
    "\n",
    "    def area(self):\n",
    "        return self.__length * self.__width\n",
    "\n",
    "    def perimeter(self):\n",
    "        return 2 * (self.__length + self.__width)"
   ]
  },
  {
   "cell_type": "code",
   "execution_count": 5,
   "id": "6ef6bfc9-795d-4aaa-af2d-3f7489451b1c",
   "metadata": {},
   "outputs": [
    {
     "name": "stdout",
     "output_type": "stream",
     "text": [
      "Area: 20\n",
      "Perimeter: 18\n"
     ]
    }
   ],
   "source": [
    "r = Rectangle(4,5)\n",
    "print(f\"Area: {r.area()}\")\n",
    "print(f\"Perimeter: {r.perimeter()}\")"
   ]
  },
  {
   "cell_type": "markdown",
   "id": "b3eca0a0-e7c0-47a9-929b-c3b0183eaeca",
   "metadata": {},
   "source": [
    "## Challenge 2: Implement the Complete Student Task\n",
    "\n",
    "Implement the `Student` class:\n",
    "* Private properties: `name`, `rollNumber`\n",
    "* Getter/setter methods: `getName()`, `setName()`, `getRollNumber()`, `setRollNumber()`"
   ]
  },
  {
   "cell_type": "code",
   "execution_count": 6,
   "id": "0a97f371-e6ce-4bdd-9187-7b046bce4742",
   "metadata": {},
   "outputs": [],
   "source": [
    "class Student:\n",
    "    def __init__(self,  name=None, rollNumber=None):\n",
    "        self.__name = name\n",
    "        self.__rollNumber = rollNumber\n",
    "        \n",
    "    def setName(self, name):\n",
    "        self.__name = name\n",
    "\n",
    "    def getName(self):\n",
    "        return self.__name\n",
    "\n",
    "    def setRollNumber(self, rollNumber):\n",
    "        self.__rollNumber = rollNumber\n",
    "\n",
    "    def getRollNumber(self):\n",
    "        return self.__rollNumber"
   ]
  },
  {
   "cell_type": "code",
   "execution_count": 9,
   "id": "2851b86f-6515-43df-bb5c-e1c349da8ac7",
   "metadata": {},
   "outputs": [
    {
     "name": "stdout",
     "output_type": "stream",
     "text": [
      "Student Name: chad\n",
      "Student Name: 12\n"
     ]
    }
   ],
   "source": [
    "s = Student()\n",
    "s.setName(\"chad\")\n",
    "print(f\"Student Name: {s.getName()}\")\n",
    "s.setRollNumber(12)\n",
    "print(f\"Student Name: {s.getRollNumber()}\")"
   ]
  },
  {
   "cell_type": "markdown",
   "id": "172c0044-fd5d-4e06-a3ce-bdac9b062156",
   "metadata": {},
   "source": [
    "# Inheritance\n",
    "\n",
    "* A Parent Class (aka super class or base class): allows the re-use of its *public* properties in another class\n",
    "* A Child Class (aka sub class or derived class): *inherits* or *extends* the parent class. \n",
    "\n",
    "```{python}\n",
    "class ParentClass:\n",
    "    # attributes of the parent class\n",
    "\n",
    "\n",
    "class ChildClass(ParentClass):\n",
    "    # attributes of the child class\n",
    "```\n",
    "\n",
    "`super()` is used in a child class to refer to the parent class without explicitly naming it:"
   ]
  },
  {
   "cell_type": "code",
   "execution_count": 1,
   "id": "72d39c1f-7c09-44e7-94a5-c0b986dee7d1",
   "metadata": {},
   "outputs": [
    {
     "name": "stdout",
     "output_type": "stream",
     "text": [
      "Fuel cap from the Vehicle Class: 90\n",
      "Fuel cap from the Car Class: 50\n"
     ]
    }
   ],
   "source": [
    "class Vehicle:  # defining the parent class\n",
    "    fuelCap = 90\n",
    "\n",
    "\n",
    "class Car(Vehicle):  # defining the child class\n",
    "    fuelCap = 50\n",
    "\n",
    "    def display(self):\n",
    "        # accessing fuelCap from the Vehicle class using super()\n",
    "        print(\"Fuel cap from the Vehicle Class:\", super().fuelCap)\n",
    "\n",
    "        # accessing fuelCap from the Car class using self\n",
    "        print(\"Fuel cap from the Car Class:\", self.fuelCap)\n",
    "\n",
    "\n",
    "obj1 = Car()  # creating a car object\n",
    "obj1.display()  # calling the Car class method display()"
   ]
  },
  {
   "cell_type": "markdown",
   "id": "f8592bda-3660-4bdd-8362-d45522e9927e",
   "metadata": {},
   "source": [
    "**Types of inheritance:**\n",
    "* Single inheritance: only a single class extending from another class (e.g., vehicle -> car)\n",
    "* Multi level inheritance: class is derived from a class which itself is derived from another class (e.g., vehicle -> car -> hybrid)\n",
    "* Hierarchical inheritance: more than one class extends from the same base class (e.g., vehicle --> car / vehicle --> truck)\n",
    "* Multiple inheritance: when a class is derived from more than one base class (e.g. hybrid engine is an electric engine / hybrid engine also a combustion engine)\n",
    "* Hyrbid inheritance: combination of multiple and multi-level inheritance: \n",
    "    * a combustion engine is an engine\n",
    "    * an electric engine is an engine\n",
    "    * hybrid engine is an electric engine and a combustion engine \n",
    "    \n",
    "**Advantages of Inheritance:**\n",
    "* reusability\n",
    "* code moditification: don't need to modify the same code in multiple places\n",
    "* extensibility: easy way to upgrade or enhance specific parts of a product without changing core attributes \n",
    "* data hiding: base class can keep things private so derived class can't alter it (encapsulation)\n"
   ]
  },
  {
   "cell_type": "markdown",
   "id": "92ac3f34-0129-44d0-828c-5da513f8b449",
   "metadata": {},
   "source": [
    "## Challenge 1: Implement a Banking Account\n",
    "\n",
    "Implement parent class `Account` and child class, `SavingsAccount` and then:\n",
    "* Impelement properties as instance variables and set them to None or 0\n",
    "    * `Account`: `title`, `balance`\n",
    "    * `SavingsAccount`: `interestRate`\n",
    "* Create an ititializer for `Account`\n",
    "* Impelment properties as instance variables and set them to None or 0\n",
    "* Create an initializer for the `SavingsAccount` class using the initializer of the `Account` class"
   ]
  },
  {
   "cell_type": "code",
   "execution_count": 2,
   "id": "337208fb-3272-4376-81ec-c05a50334545",
   "metadata": {},
   "outputs": [],
   "source": [
    "class Account:\n",
    "    def __init__(self, title=None, balance=0):\n",
    "        self.title = title\n",
    "        self.balance = balance\n",
    "\n",
    "class SavingsAccount(Account):\n",
    "    def __init__(self, title=None, balance=0, interestRate=0):\n",
    "        super().__init__(title, balance)\n",
    "        self.interestRate = interestRate"
   ]
  },
  {
   "cell_type": "code",
   "execution_count": 6,
   "id": "c3b7920d-5f84-4373-a17b-35f78183ec4b",
   "metadata": {},
   "outputs": [
    {
     "name": "stdout",
     "output_type": "stream",
     "text": [
      "Mark\n",
      "5000\n",
      "5\n"
     ]
    }
   ],
   "source": [
    "print(SavingsAccount(\"Mark\", 5000, 5).title)\n",
    "print(SavingsAccount(\"Mark\", 5000, 5).balance)\n",
    "print(SavingsAccount(\"Mark\", 5000, 5).interestRate)"
   ]
  },
  {
   "cell_type": "markdown",
   "id": "4d44fd00-bd7f-42d2-89c4-69b6126299a3",
   "metadata": {},
   "source": [
    "## Challenge 2: Handling a Bank Account\n",
    "* In `Account`, implement `getBalance()` method to return `balance`\n",
    "* In the `Account` class, implement the `deposit(amount)` method that adds amount to the balance. It does not return anything.\n",
    "* In the `Account` class, implement the `withdrawal(amount)` method that subtracts the amount from the balance. It does not return anything.\n",
    "* In the `SavingsAccount` class, implement an `interestAmount()` method that returns the interest amount of the current balance. Formula: (interest rate * balance) / 100\n"
   ]
  },
  {
   "cell_type": "code",
   "execution_count": 7,
   "id": "c7ef3896-c8ea-4185-abca-ffb8f802cfd4",
   "metadata": {},
   "outputs": [],
   "source": [
    "class Account:\n",
    "    def __init__(self, title=None, balance=0):\n",
    "        self.title = title\n",
    "        self.balance = balance\n",
    "\n",
    "    def withdrawal(self, amount):\n",
    "        self.balance -= amount\n",
    "\n",
    "    def deposit(self, amount):\n",
    "        self.balance += amount\n",
    "\n",
    "    def getBalance(self):\n",
    "        return (self.balance)\n",
    "\n",
    "\n",
    "class SavingsAccount(Account):\n",
    "    def __init__(self, title=None, balance=0, interestRate=0):\n",
    "        super().__init__(title, balance)\n",
    "        self.interestRate = interestRate\n",
    "\n",
    "    def interestAmount(self):\n",
    "        return (self.interestRate * self.balance) / 100"
   ]
  },
  {
   "cell_type": "code",
   "execution_count": 13,
   "id": "35dc215c-c816-420e-94bd-b2c4f9a89ed7",
   "metadata": {},
   "outputs": [
    {
     "name": "stdout",
     "output_type": "stream",
     "text": [
      "5000\n",
      "Initial Balance: None\n",
      "4000\n",
      "Balance after withdrawal: None\n",
      "4500\n",
      "Balance after deposit: None\n",
      "Interest on current balance: 450.0\n"
     ]
    }
   ],
   "source": [
    "obj1 = SavingsAccount(\"Steve\", 5000, 10)\n",
    "print(\"Initial Balance:\", obj1.getBalance())\n",
    "obj1.withdrawal(1000)\n",
    "print(\"Balance after withdrawal:\", obj1.getBalance())\n",
    "obj1.deposit(500)\n",
    "print(\"Balance after deposit:\", obj1.getBalance())\n",
    "print(\"Interest on current balance:\", obj1.interestAmount())\n"
   ]
  },
  {
   "cell_type": "markdown",
   "id": "15ea5f8b-ca09-4067-841b-ea17dcc3d58e",
   "metadata": {},
   "source": [
    "# Polymorphism\n",
    "\n",
    "The same object exhibiting differetn forms and behaviors. Example: Parent class Shape, child classes Rectangle, Circle, Polygon, Diamond. \n",
    "\n",
    "*Method overriding* is the process of redefining a parent's class's method in a sub-class. Advantages:\n",
    "* Derive class gets their own specific implementations\n",
    "* Child class can use the parent class or make its own\n",
    "* Needs inheritance\n",
    "\n",
    "*Duck typing* means we can change the type of an object later in the code.  Simplifies code and user can implement functions iwthout worrying about the data type. \n",
    "\n",
    "*Abstract Base Classes* define a set of methods and properties that a class must implement in order to be a duck-type instance of that class. \n",
    "\n",
    "```{python}\n",
    "from abc import ABC, abstractmethod\n",
    "\n",
    "\n",
    "class Shape(ABC):  # Shape is a child class of ABC\n",
    "    @abstractmethod\n",
    "    def area(self):\n",
    "        pass\n",
    "\n",
    "    @abstractmethod\n",
    "    def perimeter(self):\n",
    "        pass\n",
    "\n",
    "\n",
    "class Square(Shape):\n",
    "    def __init__(self, length):\n",
    "        self.length = length\n",
    "\n",
    "\n",
    "shape = Shape()\n",
    "# this code will not compile since Shape has abstract methods without\n",
    "# method definitions in it\n",
    "```\n",
    "\n",
    "## Challenge 1: Override a Method Using the Super Function\n",
    "\n",
    "When a method in a derived class overrides a method in a base class, it is still possible to call the overridden method using the `super()` function.\n",
    "\n",
    "Modify the code so it returns the following:\n",
    "\n",
    "*Input*:\n",
    "```\n",
    "circle = XShape(\"Circle\");\n",
    "circle.getName()\n",
    "```\n",
    "*Output:*\n",
    "```\n",
    "\"Shape, Circle\"\n",
    "```"
   ]
  },
  {
   "cell_type": "code",
   "execution_count": 5,
   "id": "cf337175-58f3-4d5f-a426-f1b0436b9930",
   "metadata": {},
   "outputs": [],
   "source": [
    "class Shape:\n",
    "    sname = \"Shape\"\n",
    "\n",
    "    def getName(self):\n",
    "        return self.sname\n",
    "\n",
    "class XShape(Shape):\n",
    "    # initializer\n",
    "    def __init__(self, name):\n",
    "        self.xsname = name\n",
    "\n",
    "    def getName(self):  # overriden method\n",
    "        return (super().getName() + \", \" + self.xsname)"
   ]
  },
  {
   "cell_type": "code",
   "execution_count": 6,
   "id": "56233912-73ae-45a5-8f70-59073c162df7",
   "metadata": {},
   "outputs": [
    {
     "data": {
      "text/plain": [
       "'Shape, Circle'"
      ]
     },
     "execution_count": 6,
     "metadata": {},
     "output_type": "execute_result"
    }
   ],
   "source": [
    "circle = XShape(\"Circle\");\n",
    "circle.getName()"
   ]
  },
  {
   "cell_type": "markdown",
   "id": "0465592b-3e20-4b31-81ff-5c64465b035c",
   "metadata": {},
   "source": [
    "## Challenge 2: Implement an Animal Class\n",
    "\n",
    "* Parent class: `Animal`\n",
    "    * name\n",
    "    * sound\n",
    "    * __init__()\n",
    "    * Animal_details() that prints the name and sound of an Animal. \n",
    "* Derived class 1: Dog\n",
    "    * has family property\n",
    "    * has initializer that calls the parent class initializer through super()\n",
    "    * Has an overriden method named Animal_dtails() which prints the details of the dog \n",
    "* Derived class 2: Sheep\n",
    "    * has color property\n",
    "    * has initializer that calls the parent class initializer through super()\n",
    "    * Has an overriden method named Animal_details()\n",
    "* The derived classes should override the Animal_details() method defined in the Animal class.\n",
    "    * The overridden method in Dog class should print the value of family as well as the name and sound.\n",
    "    * The overridden method in Sheep class should print the value of color as well as the name and sound\n",
    "    \n",
    "name of Dog is set to Pongo, sound is set to Woof Woof, and family is set to Carnivore in the initializer of Dog object.\n",
    "\n",
    "name of Sheep is set to Billy, sound is set to Baaa Baaa, and color is set to White in the initializer of Sheep object.\n",
    "\n",
    "Now, call Animal_details() from their respective objects."
   ]
  },
  {
   "cell_type": "code",
   "execution_count": 11,
   "id": "f022784a-9586-43e1-b933-21822d87deb6",
   "metadata": {},
   "outputs": [],
   "source": [
    "class Animal:\n",
    "    def __init__(self, name, sound):\n",
    "        self.name = name\n",
    "        self.sound = sound\n",
    "    \n",
    "    def Animal_details(self):\n",
    "        print(f\"Name: {self.name}\")\n",
    "        print(f\"Sound: {self.sound}\")\n",
    "\n",
    "class Dog(Animal):\n",
    "    def __init__(self, name, sound, family):\n",
    "        super().__init__(name, sound)\n",
    "        self.family = family\n",
    "    \n",
    "    def Animal_details(self):\n",
    "        super().Animal_details()\n",
    "        print(f\"Family: {self.family}\")\n",
    "\n",
    "class Sheep(Animal):\n",
    "    def __init__(self, name, sound, color):\n",
    "        super().__init__(name, sound)\n",
    "        self.color = color\n",
    "    \n",
    "    def Animal_details(self):\n",
    "        super().Animal_details()\n",
    "        print(f\"Color: {self.color}\")"
   ]
  },
  {
   "cell_type": "code",
   "execution_count": 12,
   "id": "2b9b88a7-58d9-4d26-979f-1a601975ca8f",
   "metadata": {},
   "outputs": [
    {
     "name": "stdout",
     "output_type": "stream",
     "text": [
      "Name: Pongo\n",
      "Sound: Woof Woof\n",
      "Family: Husky\n",
      " \n",
      "Name: Billy\n",
      "Sound: Baaa Baaa\n",
      "Color: White\n"
     ]
    }
   ],
   "source": [
    "d = Dog(\"Pongo\", \"Woof Woof\", \"Husky\")\n",
    "d.Animal_details()\n",
    "print(\" \")\n",
    "s = Sheep(\"Billy\", \"Baaa Baaa\", \"White\")\n",
    "s.Animal_details()"
   ]
  },
  {
   "cell_type": "markdown",
   "id": "76733827-979b-4c9d-a78a-217ef9b0432a",
   "metadata": {},
   "source": [
    "# Object Relationships\n",
    "\n",
    "Three main relationships\n",
    "* IS A\n",
    "* Part-of\n",
    "* Has-a\n",
    "\n",
    "**Part of**: one class is a component of another class. An instance of the component class can only be created inside the main class. Example: class B and class C have their own implementations, but their objects are only created once a class A object is created.\n",
    "\n",
    "**Has a**:  less concrete relationship between two classes. Class A and Class B have a *has-a* relationship if one or both need the other's object to perform an operation, but both class objects can exist independently of each other. Implies that a class **has a** reference to an object of the other class, but does not decide the lifetime of the other class's referenced object. \n",
    "\n",
    "---\n",
    "\n",
    "**Aggregation** follows the **Has-A** Model. This creates a parent-child relationship between two classes, with one class owning the object of another. \n",
    "* Lifetime of the owned object does not depend on the lifetime of the owner. \n",
    "* Example below, where each person is associated with a country, but the country can exist without a person. "
   ]
  },
  {
   "cell_type": "code",
   "execution_count": 1,
   "id": "644ee3c2-24d3-4c20-96c9-8755837590e1",
   "metadata": {},
   "outputs": [
    {
     "name": "stdout",
     "output_type": "stream",
     "text": [
      "Person Name: Joe\n",
      "Country Name: Wales\n",
      "Country Population 1500\n",
      "\n",
      "Country Name: Wales\n",
      "Country Population 1500\n"
     ]
    }
   ],
   "source": [
    "class Country:\n",
    "    def __init__(self, name=None, population=0):\n",
    "        self.name = name\n",
    "        self.population = population\n",
    "\n",
    "    def printDetails(self):\n",
    "        print(\"Country Name:\", self.name)\n",
    "        print(\"Country Population\", self.population)\n",
    "\n",
    "\n",
    "class Person:\n",
    "    def __init__(self, name, country):\n",
    "        self.name = name\n",
    "        self.country = country\n",
    "\n",
    "    def printDetails(self):\n",
    "        print(\"Person Name:\", self.name)\n",
    "        self.country.printDetails()\n",
    "\n",
    "\n",
    "c = Country(\"Wales\", 1500)\n",
    "p = Person(\"Joe\", c)\n",
    "p.printDetails()\n",
    "\n",
    "# deletes the object p\n",
    "del p\n",
    "print(\"\")\n",
    "c.printDetails()"
   ]
  },
  {
   "cell_type": "markdown",
   "id": "17202742-51fe-483b-a946-162e40506705",
   "metadata": {},
   "source": [
    "**Composition** is the practice of accessing other class objects in your class. The class that creates the object of another class is known as the *owner* and is resposnible for the lifetime of that object. They are a **part-of** relationships, where the part must constitute a segment of the whole object. \n",
    "* The lifetime of the owned object depends on the lifetime of the owner\n",
    "* Example: a car is composed of an engine, tires, adn doors. Car owned these objects, so it is the Owner and tires/doors/engine are *Owned*. "
   ]
  },
  {
   "cell_type": "code",
   "execution_count": 3,
   "id": "6bf5c7aa-a2d7-448b-a386-760ab48c78b0",
   "metadata": {},
   "outputs": [
    {
     "name": "stdout",
     "output_type": "stream",
     "text": [
      "Engine Details: 1600\n",
      "Number of tires: 4\n",
      "Number of doors: 2\n",
      "Car color: Grey\n"
     ]
    }
   ],
   "source": [
    "class Engine:\n",
    "    def __init__(self, capacity=0):\n",
    "        self.capacity = capacity\n",
    "\n",
    "    def printDetails(self):\n",
    "        print(\"Engine Details:\", self.capacity)\n",
    "\n",
    "\n",
    "class Tires:\n",
    "    def __init__(self, tires=0):\n",
    "        self.tires = tires\n",
    "\n",
    "    def printDetails(self):\n",
    "        print(\"Number of tires:\", self.tires)\n",
    "\n",
    "\n",
    "class Doors:\n",
    "    def __init__(self, doors=0):\n",
    "        self.doors = doors\n",
    "\n",
    "    def printDetails(self):\n",
    "        print(\"Number of doors:\", self.doors)\n",
    "\n",
    "\n",
    "class Car:\n",
    "    def __init__(self, eng, tr, dr, color):\n",
    "        self.eObj = Engine(eng)\n",
    "        self.tObj = Tires(tr)\n",
    "        self.dObj = Doors(dr)\n",
    "        self.color = color\n",
    "        \n",
    "    def printDetails(self):\n",
    "        self.eObj.printDetails()\n",
    "        self.tObj.printDetails()\n",
    "        self.dObj.printDetails()\n",
    "        print(\"Car color:\", self.color)\n",
    "\n",
    "car = Car(1600, 4, 2, \"Grey\")\n",
    "car.printDetails()"
   ]
  },
  {
   "cell_type": "markdown",
   "id": "323c910a-f463-49ca-9fa8-821cb024b15f",
   "metadata": {},
   "source": [
    "## Challenge 1: Cars and Engines\n",
    "Perform composition between a sedan car class and its engine\n",
    "* Implement a Sedan class which inherits from the Car class and contains a SedanEngine object.\n",
    "\n",
    "Task 1\n",
    "* The Car initializer should take arguments in the order Car(model,color).\n",
    "* The Car class should have two properties:\n",
    "    * model\n",
    "    * color\n",
    "* The Car class should have one method:\n",
    "    * printDetails(), which will print model and color of the Car object\n",
    "    \n",
    "Task 2\n",
    "* The SedanEngine class will have two methods:\n",
    "    * start(), which will print: Car has started.\n",
    "    * stop(), which will print: Car has stopped.\n",
    "    \n",
    "Task 3\n",
    "* The Sedan initializer should take arguments in the order Sedan(model, color).\n",
    "* The Sedan class will have one property:\n",
    "    * engine, which is a SedanEngine class object that should be created when the object is initialized\n",
    "* The Sedan class will have two methods:\n",
    "    * setStart(), which will call the start() method of SedanEngine.\n",
    "    * setStop(), which will call the stop() method of SedanEngine."
   ]
  },
  {
   "cell_type": "code",
   "execution_count": 8,
   "id": "2015ea09-3b3e-4d68-90e7-b1b975c5ec4a",
   "metadata": {},
   "outputs": [],
   "source": [
    "class Car:\n",
    "    def __init__(self, model, color):\n",
    "        self.model = model\n",
    "        self.color = color\n",
    "    \n",
    "    def printDetails(self):\n",
    "        print(\"Model: \", self.model)\n",
    "        print(\"Color: \", self.color)\n",
    "\n",
    "class SedanEngine:\n",
    "    def start(self):\n",
    "        print(\"Car has started.\")\n",
    "    \n",
    "    def stop(self):\n",
    "        print(\"Car has stopped\")\n",
    "\n",
    "\n",
    "class Sedan(Car):\n",
    "    def __init__(self, model, color):\n",
    "        super().__init__(model, color)\n",
    "        self.engine = SedanEngine()\n",
    "    \n",
    "    def setStart(self):\n",
    "        self.engine.start()\n",
    "    \n",
    "    def setStop(self):\n",
    "        self.engine.stop()"
   ]
  },
  {
   "cell_type": "code",
   "execution_count": 9,
   "id": "72df5c15-fd72-462b-a6d5-912c51470d45",
   "metadata": {},
   "outputs": [
    {
     "name": "stdout",
     "output_type": "stream",
     "text": [
      "Car has started.\n",
      "Model:  Toyota\n",
      "Color:  Grey\n",
      "Car has stopped\n"
     ]
    }
   ],
   "source": [
    "car1 = Sedan(\"Toyota\",\"Grey\")\n",
    "car1.setStart()\n",
    "car1.printDetails()\n",
    "car1.setStop()"
   ]
  },
  {
   "cell_type": "markdown",
   "id": "2719df5a-dfd9-4180-8485-f47d41d1eb37",
   "metadata": {},
   "source": [
    "## Challenge 2: Implement a Sports Team\n",
    "\n",
    "You have to implement 3 classes, School, Team, and Player, such that an instance of a School should contain instances of Team objects. Similarly, a Team object can contain instances of Player class. Implement a School class containing a list of Team objects and a Team class comprising a list of Player objects. \n",
    "\n",
    "Task 1\n",
    "* The Player class should have three properties that will be set using an initializer:\n",
    "    * ID\n",
    "    * name\n",
    "    * teamName\n",
    "\n",
    "Task 2\n",
    "* The Team class will have two properties that will be set using an initializer:\n",
    "    * name\n",
    "    * players: a list with player class objects in it\n",
    "* It will have two methods:\n",
    "    * addPlayer(), which will add new player objects in the players list\n",
    "    * getNumberOfPlayers(), which will return the total number of players in the players list\n",
    "\n",
    "Task 3\n",
    "* The School class will contain two properties that will be set using an initializer:\n",
    "    * teams, a list of team class objects\n",
    "    * name\n",
    "* It will have two methods:\n",
    "    * addTeam, which will add new team objects in the teams list\n",
    "    * getTotalPlayersInSchool(), which will count the total players in all of the teams in the School and return the count"
   ]
  },
  {
   "cell_type": "code",
   "execution_count": 15,
   "id": "d80cf0b2-e768-4580-ae5c-e86d3c473981",
   "metadata": {},
   "outputs": [],
   "source": [
    "# Player class\n",
    "class Player:\n",
    "    def __init__(self, ID, name, teamName):\n",
    "        self.ID = ID\n",
    "        self.name = name\n",
    "        self.teamName = teamName\n",
    "\n",
    "\n",
    "# Team class contains a list of Player\n",
    "# Objects\n",
    "class Team:\n",
    "    def __init__(self, name):\n",
    "        self.name = name\n",
    "        self.players = []\n",
    "    \n",
    "    def addPlayer(self, player):\n",
    "        self.players.append(player)\n",
    "    \n",
    "    def getNumberofPlayers(self):\n",
    "        return len(self.players)\n",
    "\n",
    "\n",
    "# School class contains a list of Team\n",
    "# objects.\n",
    "class School:\n",
    "    def __init__(self, name=\"\"):\n",
    "        self.teams = []\n",
    "        self.name = name\n",
    "    \n",
    "    def addTeam(self, team):\n",
    "        self.teams.append(team)\n",
    "    \n",
    "    def getTotalPlayersInSchool(self):\n",
    "        total_players = 0\n",
    "        for t in self.teams:\n",
    "            total_players += t.getNumberofPlayers()\n",
    "        return total_players\n",
    "\n",
    "\n",
    "# Complete the implementation"
   ]
  },
  {
   "cell_type": "code",
   "execution_count": 28,
   "id": "bb0f05ca-6011-4d19-9d4c-381a2908e544",
   "metadata": {},
   "outputs": [],
   "source": [
    "p1 = Player(1, \"Harris\", \"Red\")\n",
    "p2 = Player(2, \"Carol\", \"Red\")\n",
    "p3 = Player(1, \"Johnny\", \"Blue\")\n",
    "p4 = Player(2, \"Sarah\", \"Blue\")\n",
    "\n",
    "red_team = Team(\"Red Team\")\n",
    "red_team.addPlayer(p1)\n",
    "red_team.addPlayer(p2)\n",
    "\n",
    "blue_team = Team(\"Blue Team\")\n",
    "blue_team.addPlayer(p2)\n",
    "blue_team.addPlayer(p3)\n",
    "\n",
    "mySchool = School(\"My School\")\n",
    "mySchool.addTeam(red_team)"
   ]
  },
  {
   "cell_type": "code",
   "execution_count": 29,
   "id": "9ac45230-4f9e-4acb-91e9-96209f3e5212",
   "metadata": {},
   "outputs": [
    {
     "name": "stdout",
     "output_type": "stream",
     "text": [
      "2\n",
      "4\n"
     ]
    }
   ],
   "source": [
    "print(mySchool.getTotalPlayersInSchool())\n",
    "mySchool.addTeam(blue_team)\n",
    "print(mySchool.getTotalPlayersInSchool())"
   ]
  },
  {
   "cell_type": "markdown",
   "id": "4e42ed42-7305-434c-ab51-bf62b967f2d8",
   "metadata": {},
   "source": [
    "# Exam Challenges"
   ]
  },
  {
   "cell_type": "code",
   "execution_count": 43,
   "id": "c3f2c68d-6e45-4ac4-8e0e-a9eb7be11c3e",
   "metadata": {},
   "outputs": [],
   "source": [
    "class Salary:\n",
    "\n",
    "    def __init__(self, base_pay=0, bonus=0):\n",
    "        self.__base_pay = base_pay\n",
    "        self.__bonus = bonus\n",
    "    \n",
    "    def get_bonus(self):\n",
    "        return self.__bonus\n",
    "    \n",
    "    def set_bonus(self, bonus):\n",
    "        self.__bonus = bonus\n",
    "    \n",
    "    def get_base_pay(self):\n",
    "        return self.__base_pay\n",
    "    \n",
    "    def set_base_pay(self, base_pay):\n",
    "        self.__base_pay = base_pay\n",
    "\n",
    "    # Write methods Salary class here\n",
    "\n",
    "class Employee:\n",
    "    \n",
    "    def __init__(self, name='', base_pay=0, bonus=0):\n",
    "        self.__name = name \n",
    "        self.__salary = Salary(base_pay, bonus)\n",
    "    \n",
    "    def get_name(self):\n",
    "        return self.__name\n",
    "\n",
    "    def get_salary(self):\n",
    "        return (self.__salary.get_base_pay() + self.__salary.get_bonus())\n",
    "    \n",
    "    def set_salary(self, base_pay, bonus):\n",
    "        self.__salary.set_base_pay(base_pay)\n",
    "        self.__salary.set_bonus(bonus)\n",
    "\n",
    "    # Write methods for Employee class here\n",
    "    "
   ]
  },
  {
   "cell_type": "code",
   "execution_count": 44,
   "id": "eda2fd06-e2fa-4268-b68b-2b601fc8b9de",
   "metadata": {},
   "outputs": [],
   "source": [
    "from abc import ABC, abstractmethod\n",
    "\n",
    "# Define the Metal class here\n",
    "class Metal(ABC):\n",
    "    @abstractmethod\n",
    "    def get_melting_point(self):\n",
    "        pass \n",
    "    \n",
    "# Define the Child classes here\n",
    "class Aluminum(Metal):\n",
    "    def get_melting_point(self):\n",
    "        return 660\n",
    "\n",
    "class Copper(Metal):\n",
    "    def get_melting_point(self):\n",
    "        return 1084\n",
    "    \n",
    "class Gold(Metal):\n",
    "    def get_melting_point(self):\n",
    "        return 1063"
   ]
  },
  {
   "cell_type": "code",
   "execution_count": 47,
   "id": "703c375f-1b95-4b11-a21d-ee3c138cfc05",
   "metadata": {},
   "outputs": [
    {
     "data": {
      "text/plain": [
       "1063"
      ]
     },
     "execution_count": 47,
     "metadata": {},
     "output_type": "execute_result"
    }
   ],
   "source": [
    "g = Gold()\n",
    "g.get_melting_point()"
   ]
  },
  {
   "cell_type": "code",
   "execution_count": null,
   "id": "6d7713a9-9fb4-4729-bcb0-c12ab1cae5fd",
   "metadata": {},
   "outputs": [],
   "source": []
  }
 ],
 "metadata": {
  "kernelspec": {
   "display_name": "Python 3 (ipykernel)",
   "language": "python",
   "name": "python3"
  },
  "language_info": {
   "codemirror_mode": {
    "name": "ipython",
    "version": 3
   },
   "file_extension": ".py",
   "mimetype": "text/x-python",
   "name": "python",
   "nbconvert_exporter": "python",
   "pygments_lexer": "ipython3",
   "version": "3.10.8"
  },
  "toc-autonumbering": true
 },
 "nbformat": 4,
 "nbformat_minor": 5
}
