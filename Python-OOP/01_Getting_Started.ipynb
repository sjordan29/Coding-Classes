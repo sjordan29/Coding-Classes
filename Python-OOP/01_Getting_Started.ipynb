{
 "cells": [
  {
   "cell_type": "markdown",
   "id": "6caf1aa1-6f2d-466a-9e61-f9767dc03e97",
   "metadata": {},
   "source": [
    "# Classes and Objects\n",
    "\n",
    "## Challenge 1: Square Numbers and Return Sum\n",
    "\n",
    "Implement a class `Point` that has three properties and a method. All these attributes (properties and methods) should be public. This problem can be broken down into two tasks:\n",
    "* Implement a constructor to innitialize the values of three properties: `x`, `y`, and `z`\n",
    "* Impelment a method, `sqSum()` in the `Point` class which squares `x`, `y`, and `z` and returns their sum. "
   ]
  },
  {
   "cell_type": "code",
   "execution_count": 1,
   "id": "313dde18-fa6f-4cd5-9a13-02d7f7c65e45",
   "metadata": {},
   "outputs": [],
   "source": [
    "class Point:\n",
    "    def __init__(self, x, y, z):\n",
    "        self.x = x\n",
    "        self.y = y\n",
    "        self.z = z\n",
    "    \n",
    "    def sqSum(self):\n",
    "        return self.x**2 + self.y**2 + self.z**2"
   ]
  },
  {
   "cell_type": "code",
   "execution_count": 2,
   "id": "fe8faf6a-e6cd-4d0c-8aff-4219e8415cd7",
   "metadata": {},
   "outputs": [
    {
     "name": "stdout",
     "output_type": "stream",
     "text": [
      "29\n"
     ]
    }
   ],
   "source": [
    "p1 = Point(2, 3, 4)\n",
    "ss = p1.sqSum()\n",
    "print(ss)"
   ]
  },
  {
   "cell_type": "markdown",
   "id": "d623ab9b-871f-416f-aa22-18274aa4b4de",
   "metadata": {},
   "source": [
    "## Challenge 2: Calculate the Student's Performance \n",
    "Implement a `Student` class that has four properties and two methods. All attributes are public. \n",
    "* Implement a constructor to initialize the values of four properties: `name`, `phy`, `chem`, `bio`\n",
    "* Implement a `totalObtained` method in the `Student` class to calculate total marks of a student\n",
    "* Using `totalObtained`, implement another method, `percentage`, in the `Student` class that calculates the percentage of students marks. Assume the total marks sfo each subject are 100, combined marks of 3 sobjects are 300. "
   ]
  },
  {
   "cell_type": "code",
   "execution_count": 3,
   "id": "4b168a7a-19d7-42ac-989a-808dc6d0e65a",
   "metadata": {},
   "outputs": [],
   "source": [
    "class Student:\n",
    "    def __init__(self, name, phy, chem, bio):\n",
    "        self.name = name\n",
    "        self.phy = phy\n",
    "        self.chem = chem\n",
    "        self.bio = bio\n",
    "\n",
    "    def totalObtained(self):\n",
    "        return self.phy + self.chem + self.bio\n",
    "\n",
    "    def percentage(self):\n",
    "        return self.totalObtained() / 300 * 100\n"
   ]
  },
  {
   "cell_type": "code",
   "execution_count": 4,
   "id": "59bac2eb-7dcd-4e7d-88a8-a908346dc253",
   "metadata": {},
   "outputs": [
    {
     "name": "stdout",
     "output_type": "stream",
     "text": [
      "210\n",
      "70.0\n"
     ]
    }
   ],
   "source": [
    "demo1=Student(\"Mark\",80,90,40)\n",
    "print(demo1.totalObtained())\n",
    "print(demo1.percentage())"
   ]
  },
  {
   "cell_type": "markdown",
   "id": "3aa96e33-39f1-4117-a05c-ab671db02122",
   "metadata": {},
   "source": [
    "## Challenge 3: Implement a Calculator Class\n",
    "Write a Python class called `Calculator` by:\n",
    "* Implement an initializer to intialize the values of num1 and num2\n",
    "* add, subtract, multiply, divide methods "
   ]
  },
  {
   "cell_type": "code",
   "execution_count": 5,
   "id": "51455991-e4cf-4eaf-9a2c-adb457d8f6c4",
   "metadata": {},
   "outputs": [],
   "source": [
    "class Calculator:\n",
    "    def __init__(self, num1, num2):\n",
    "        self.num1 = num1\n",
    "        self.num2 = num2\n",
    "\n",
    "    def add(self):\n",
    "        return self.num1 + self.num2\n",
    "\n",
    "    def subtract(self):\n",
    "        return self.num2 - self.num1\n",
    "\n",
    "    def multiply(self):\n",
    "        return self.num1 * self.num2\n",
    "\n",
    "    def divide(self):\n",
    "        return self.num2 / self.num1\n"
   ]
  },
  {
   "cell_type": "code",
   "execution_count": 7,
   "id": "c2465fb9-bacc-4147-a24b-f03d27534593",
   "metadata": {},
   "outputs": [
    {
     "name": "stdout",
     "output_type": "stream",
     "text": [
      "104\n",
      "84\n",
      "940\n",
      "9.4\n"
     ]
    }
   ],
   "source": [
    "obj = Calculator(10, 94);\n",
    "print(obj.add())\n",
    "print(obj.subtract())\n",
    "print(obj.multiply())\n",
    "print(obj.divide())"
   ]
  },
  {
   "cell_type": "markdown",
   "id": "0bfdf3de-b155-4675-98d4-2f74212c4adf",
   "metadata": {},
   "source": [
    "# Information Hiding\n",
    "\n",
    "**Encapsulation** refers to binding data and the methods that manipulate the data together in a single unit (class). \n",
    "* Convention: declare all variables of a class private. \n",
    "* This only allows one to implement public methods to let the outside world communicate with the class. \n",
    "\n",
    "## Challenge 1: Implement Rectangle Class Using Encapsulation\n",
    "\n",
    "* Implement a constructor to initialize two private properties: `length` and `width`\n",
    "* Implement a method, `area()` in the `Rectangle` class that returns the product of `length` and `width`.\n",
    "* Implement a method, `perimeter` in `Rectangle` that returns the perimeter."
   ]
  },
  {
   "cell_type": "code",
   "execution_count": 1,
   "id": "7846c27c-1966-432e-8b24-5e4796663bf0",
   "metadata": {},
   "outputs": [],
   "source": [
    "class Rectangle:\n",
    "    def __init__(self, length, width):\n",
    "        self.__length = length\n",
    "        self.__width = width\n",
    "\n",
    "    def area(self):\n",
    "        return self.__length * self.__width\n",
    "\n",
    "    def perimeter(self):\n",
    "        return 2 * (self.__length + self.__width)"
   ]
  },
  {
   "cell_type": "code",
   "execution_count": 5,
   "id": "6ef6bfc9-795d-4aaa-af2d-3f7489451b1c",
   "metadata": {},
   "outputs": [
    {
     "name": "stdout",
     "output_type": "stream",
     "text": [
      "Area: 20\n",
      "Perimeter: 18\n"
     ]
    }
   ],
   "source": [
    "r = Rectangle(4,5)\n",
    "print(f\"Area: {r.area()}\")\n",
    "print(f\"Perimeter: {r.perimeter()}\")"
   ]
  },
  {
   "cell_type": "markdown",
   "id": "b3eca0a0-e7c0-47a9-929b-c3b0183eaeca",
   "metadata": {},
   "source": [
    "## Challenge 2: Implement the Complete Student Task\n",
    "\n",
    "Implement the `Student` class:\n",
    "* Private properties: `name`, `rollNumber`\n",
    "* Getter/setter methods: `getName()`, `setName()`, `getRollNumber()`, `setRollNumber()`"
   ]
  },
  {
   "cell_type": "code",
   "execution_count": 6,
   "id": "0a97f371-e6ce-4bdd-9187-7b046bce4742",
   "metadata": {},
   "outputs": [],
   "source": [
    "class Student:\n",
    "    def __init__(self,  name=None, rollNumber=None):\n",
    "        self.__name = name\n",
    "        self.__rollNumber = rollNumber\n",
    "        \n",
    "    def setName(self, name):\n",
    "        self.__name = name\n",
    "\n",
    "    def getName(self):\n",
    "        return self.__name\n",
    "\n",
    "    def setRollNumber(self, rollNumber):\n",
    "        self.__rollNumber = rollNumber\n",
    "\n",
    "    def getRollNumber(self):\n",
    "        return self.__rollNumber"
   ]
  },
  {
   "cell_type": "code",
   "execution_count": 9,
   "id": "2851b86f-6515-43df-bb5c-e1c349da8ac7",
   "metadata": {},
   "outputs": [
    {
     "name": "stdout",
     "output_type": "stream",
     "text": [
      "Student Name: chad\n",
      "Student Name: 12\n"
     ]
    }
   ],
   "source": [
    "s = Student()\n",
    "s.setName(\"chad\")\n",
    "print(f\"Student Name: {s.getName()}\")\n",
    "s.setRollNumber(12)\n",
    "print(f\"Student Name: {s.getRollNumber()}\")"
   ]
  },
  {
   "cell_type": "markdown",
   "id": "172c0044-fd5d-4e06-a3ce-bdac9b062156",
   "metadata": {},
   "source": [
    "# Inheritance\n",
    "\n",
    "* A Parent Class (aka super class or base class): allows the re-use of its *public* properties in another class\n",
    "* A Child Class (aka sub class or derived class): *inherits* or *extends* the parent class. \n",
    "\n",
    "```{python}\n",
    "class ParentClass:\n",
    "    # attributes of the parent class\n",
    "\n",
    "\n",
    "class ChildClass(ParentClass):\n",
    "    # attributes of the child class\n",
    "```\n",
    "\n",
    "`super()` is used in a child class to refer to the parent class without explicitly naming it:"
   ]
  },
  {
   "cell_type": "code",
   "execution_count": 1,
   "id": "72d39c1f-7c09-44e7-94a5-c0b986dee7d1",
   "metadata": {},
   "outputs": [
    {
     "name": "stdout",
     "output_type": "stream",
     "text": [
      "Fuel cap from the Vehicle Class: 90\n",
      "Fuel cap from the Car Class: 50\n"
     ]
    }
   ],
   "source": [
    "class Vehicle:  # defining the parent class\n",
    "    fuelCap = 90\n",
    "\n",
    "\n",
    "class Car(Vehicle):  # defining the child class\n",
    "    fuelCap = 50\n",
    "\n",
    "    def display(self):\n",
    "        # accessing fuelCap from the Vehicle class using super()\n",
    "        print(\"Fuel cap from the Vehicle Class:\", super().fuelCap)\n",
    "\n",
    "        # accessing fuelCap from the Car class using self\n",
    "        print(\"Fuel cap from the Car Class:\", self.fuelCap)\n",
    "\n",
    "\n",
    "obj1 = Car()  # creating a car object\n",
    "obj1.display()  # calling the Car class method display()"
   ]
  },
  {
   "cell_type": "markdown",
   "id": "f8592bda-3660-4bdd-8362-d45522e9927e",
   "metadata": {},
   "source": [
    "**Types of inheritance:**\n",
    "* Single inheritance: only a single class extending from another class (e.g., vehicle -> car)\n",
    "* Multi level inheritance: class is derived from a class which itself is derived from another class (e.g., vehicle -> car -> hybrid)\n",
    "* Hierarchical inheritance: more than one class extends from the same base class (e.g., vehicle --> car / vehicle --> truck)\n",
    "* Multiple inheritance: when a class is derived from more than one base class (e.g. hybrid engine is an electric engine / hybrid engine also a combustion engine)\n",
    "* Hyrbid inheritance: combination of multiple and multi-level inheritance: \n",
    "    * a combustion engine is an engine\n",
    "    * an electric engine is an engine\n",
    "    * hybrid engine is an electric engine and a combustion engine \n",
    "    \n",
    "**Advantages of Inheritance:**\n",
    "* reusability\n",
    "* code moditification: don't need to modify the same code in multiple places\n",
    "* extensibility: easy way to upgrade or enhance specific parts of a product without changing core attributes \n",
    "* data hiding: base class can keep things private so derived class can't alter it (encapsulation)\n"
   ]
  },
  {
   "cell_type": "markdown",
   "id": "92ac3f34-0129-44d0-828c-5da513f8b449",
   "metadata": {},
   "source": [
    "## Challenge 1: Implement a Banking Account\n",
    "\n",
    "Implement parent class `Account` and child class, `SavingsAccount` and then:\n",
    "* Impelement properties as instance variables and set them to None or 0\n",
    "    * `Account`: `title`, `balance`\n",
    "    * `SavingsAccount`: `interestRate`\n",
    "* Create an ititializer for `Account`\n",
    "* Impelment properties as instance variables and set them to None or 0\n",
    "* Create an initializer for the `SavingsAccount` class using the initializer of the `Account` class"
   ]
  },
  {
   "cell_type": "code",
   "execution_count": 2,
   "id": "337208fb-3272-4376-81ec-c05a50334545",
   "metadata": {},
   "outputs": [],
   "source": [
    "class Account:\n",
    "    def __init__(self, title=None, balance=0):\n",
    "        self.title = title\n",
    "        self.balance = balance\n",
    "\n",
    "class SavingsAccount(Account):\n",
    "    def __init__(self, title=None, balance=0, interestRate=0):\n",
    "        super().__init__(title, balance)\n",
    "        self.interestRate = interestRate"
   ]
  },
  {
   "cell_type": "code",
   "execution_count": 6,
   "id": "c3b7920d-5f84-4373-a17b-35f78183ec4b",
   "metadata": {},
   "outputs": [
    {
     "name": "stdout",
     "output_type": "stream",
     "text": [
      "Mark\n",
      "5000\n",
      "5\n"
     ]
    }
   ],
   "source": [
    "print(SavingsAccount(\"Mark\", 5000, 5).title)\n",
    "print(SavingsAccount(\"Mark\", 5000, 5).balance)\n",
    "print(SavingsAccount(\"Mark\", 5000, 5).interestRate)"
   ]
  },
  {
   "cell_type": "markdown",
   "id": "4d44fd00-bd7f-42d2-89c4-69b6126299a3",
   "metadata": {},
   "source": [
    "## Challenge 2: Handling a Bank Account\n",
    "* In `Account`, implement `getBalance()` method to return `balance`\n",
    "* In the `Account` class, implement the `deposit(amount)` method that adds amount to the balance. It does not return anything.\n",
    "* In the `Account` class, implement the `withdrawal(amount)` method that subtracts the amount from the balance. It does not return anything.\n",
    "* In the `SavingsAccount` class, implement an `interestAmount()` method that returns the interest amount of the current balance. Formula: (interest rate * balance) / 100\n"
   ]
  },
  {
   "cell_type": "code",
   "execution_count": 7,
   "id": "c7ef3896-c8ea-4185-abca-ffb8f802cfd4",
   "metadata": {},
   "outputs": [],
   "source": [
    "class Account:\n",
    "    def __init__(self, title=None, balance=0):\n",
    "        self.title = title\n",
    "        self.balance = balance\n",
    "\n",
    "    def withdrawal(self, amount):\n",
    "        self.balance -= amount\n",
    "\n",
    "    def deposit(self, amount):\n",
    "        self.balance += amount\n",
    "\n",
    "    def getBalance(self):\n",
    "        return (self.balance)\n",
    "\n",
    "\n",
    "class SavingsAccount(Account):\n",
    "    def __init__(self, title=None, balance=0, interestRate=0):\n",
    "        super().__init__(title, balance)\n",
    "        self.interestRate = interestRate\n",
    "\n",
    "    def interestAmount(self):\n",
    "        return (self.interestRate * self.balance) / 100"
   ]
  },
  {
   "cell_type": "code",
   "execution_count": 13,
   "id": "35dc215c-c816-420e-94bd-b2c4f9a89ed7",
   "metadata": {},
   "outputs": [
    {
     "name": "stdout",
     "output_type": "stream",
     "text": [
      "5000\n",
      "Initial Balance: None\n",
      "4000\n",
      "Balance after withdrawal: None\n",
      "4500\n",
      "Balance after deposit: None\n",
      "Interest on current balance: 450.0\n"
     ]
    }
   ],
   "source": [
    "obj1 = SavingsAccount(\"Steve\", 5000, 10)\n",
    "print(\"Initial Balance:\", obj1.getBalance())\n",
    "obj1.withdrawal(1000)\n",
    "print(\"Balance after withdrawal:\", obj1.getBalance())\n",
    "obj1.deposit(500)\n",
    "print(\"Balance after deposit:\", obj1.getBalance())\n",
    "print(\"Interest on current balance:\", obj1.interestAmount())\n"
   ]
  },
  {
   "cell_type": "markdown",
   "id": "15ea5f8b-ca09-4067-841b-ea17dcc3d58e",
   "metadata": {},
   "source": [
    "# Polymorphism\n",
    "\n",
    "The same object exhibiting differetn forms and behaviors. Example: Parent class Shape, child classes Rectangle, Circle, Polygon, Diamond. \n",
    "\n",
    "*Method overriding* is the process of redefining a parent's class's method in a sub-class. Advantages:\n",
    "* Derive class gets their own specific implementations\n",
    "* Child class can use the parent class or make its own\n",
    "* Needs inheritance\n",
    "\n",
    "*Duck typing* means we can change the type of an object later in the code.  Simplifies code and user can implement functions iwthout worrying about the data type. \n",
    "\n",
    "*Abstract Base Classes* define a set of methods and properties that a class must implement in order to be a duck-type instance of that class. \n",
    "\n",
    "```{python}\n",
    "from abc import ABC, abstractmethod\n",
    "\n",
    "\n",
    "class Shape(ABC):  # Shape is a child class of ABC\n",
    "    @abstractmethod\n",
    "    def area(self):\n",
    "        pass\n",
    "\n",
    "    @abstractmethod\n",
    "    def perimeter(self):\n",
    "        pass\n",
    "\n",
    "\n",
    "class Square(Shape):\n",
    "    def __init__(self, length):\n",
    "        self.length = length\n",
    "\n",
    "\n",
    "shape = Shape()\n",
    "# this code will not compile since Shape has abstract methods without\n",
    "# method definitions in it\n",
    "```\n",
    "\n",
    "## Challenge 1: Override a Method Using the Super Function\n",
    "\n",
    "When a method in a derived class overrides a method in a base class, it is still possible to call the overridden method using the `super()` function.\n",
    "\n",
    "Modify the code so it returns the following:\n",
    "\n",
    "*Input*:\n",
    "```\n",
    "circle = XShape(\"Circle\");\n",
    "circle.getName()\n",
    "```\n",
    "*Output:*\n",
    "```\n",
    "\"Shape, Circle\"\n",
    "```"
   ]
  },
  {
   "cell_type": "code",
   "execution_count": 5,
   "id": "cf337175-58f3-4d5f-a426-f1b0436b9930",
   "metadata": {},
   "outputs": [],
   "source": [
    "class Shape:\n",
    "    sname = \"Shape\"\n",
    "\n",
    "    def getName(self):\n",
    "        return self.sname\n",
    "\n",
    "class XShape(Shape):\n",
    "    # initializer\n",
    "    def __init__(self, name):\n",
    "        self.xsname = name\n",
    "\n",
    "    def getName(self):  # overriden method\n",
    "        return (super().getName() + \", \" + self.xsname)"
   ]
  },
  {
   "cell_type": "code",
   "execution_count": 6,
   "id": "56233912-73ae-45a5-8f70-59073c162df7",
   "metadata": {},
   "outputs": [
    {
     "data": {
      "text/plain": [
       "'Shape, Circle'"
      ]
     },
     "execution_count": 6,
     "metadata": {},
     "output_type": "execute_result"
    }
   ],
   "source": [
    "circle = XShape(\"Circle\");\n",
    "circle.getName()"
   ]
  },
  {
   "cell_type": "markdown",
   "id": "0465592b-3e20-4b31-81ff-5c64465b035c",
   "metadata": {},
   "source": [
    "## Challenge 2: Implement an Animal Class\n",
    "\n",
    "* Parent class: `Animal`\n",
    "    * name\n",
    "    * sound\n",
    "    * __init__()\n",
    "    * Animal_details() that prints the name and sound of an Animal. \n",
    "* Derived class 1: Dog\n",
    "    * has family property\n",
    "    * has initializer that calls the parent class initializer through super()\n",
    "    * Has an overriden method named Animal_dtails() which prints the details of the dog \n",
    "* Derived class 2: Sheep\n",
    "    * has color property\n",
    "    * has initializer that calls the parent class initializer through super()\n",
    "    * Has an overriden method named Animal_details()\n",
    "* The derived classes should override the Animal_details() method defined in the Animal class.\n",
    "    * The overridden method in Dog class should print the value of family as well as the name and sound.\n",
    "    * The overridden method in Sheep class should print the value of color as well as the name and sound\n",
    "    \n",
    "name of Dog is set to Pongo, sound is set to Woof Woof, and family is set to Carnivore in the initializer of Dog object.\n",
    "\n",
    "name of Sheep is set to Billy, sound is set to Baaa Baaa, and color is set to White in the initializer of Sheep object.\n",
    "\n",
    "Now, call Animal_details() from their respective objects."
   ]
  },
  {
   "cell_type": "code",
   "execution_count": 11,
   "id": "f022784a-9586-43e1-b933-21822d87deb6",
   "metadata": {},
   "outputs": [],
   "source": [
    "class Animal:\n",
    "    def __init__(self, name, sound):\n",
    "        self.name = name\n",
    "        self.sound = sound\n",
    "    \n",
    "    def Animal_details(self):\n",
    "        print(f\"Name: {self.name}\")\n",
    "        print(f\"Sound: {self.sound}\")\n",
    "\n",
    "class Dog(Animal):\n",
    "    def __init__(self, name, sound, family):\n",
    "        super().__init__(name, sound)\n",
    "        self.family = family\n",
    "    \n",
    "    def Animal_details(self):\n",
    "        super().Animal_details()\n",
    "        print(f\"Family: {self.family}\")\n",
    "\n",
    "class Sheep(Animal):\n",
    "    def __init__(self, name, sound, color):\n",
    "        super().__init__(name, sound)\n",
    "        self.color = color\n",
    "    \n",
    "    def Animal_details(self):\n",
    "        super().Animal_details()\n",
    "        print(f\"Color: {self.color}\")"
   ]
  },
  {
   "cell_type": "code",
   "execution_count": 12,
   "id": "2b9b88a7-58d9-4d26-979f-1a601975ca8f",
   "metadata": {},
   "outputs": [
    {
     "name": "stdout",
     "output_type": "stream",
     "text": [
      "Name: Pongo\n",
      "Sound: Woof Woof\n",
      "Family: Husky\n",
      " \n",
      "Name: Billy\n",
      "Sound: Baaa Baaa\n",
      "Color: White\n"
     ]
    }
   ],
   "source": [
    "d = Dog(\"Pongo\", \"Woof Woof\", \"Husky\")\n",
    "d.Animal_details()\n",
    "print(\" \")\n",
    "s = Sheep(\"Billy\", \"Baaa Baaa\", \"White\")\n",
    "s.Animal_details()"
   ]
  },
  {
   "cell_type": "code",
   "execution_count": null,
   "id": "4337c7ac-4bf5-41d5-a94e-12feb7093384",
   "metadata": {},
   "outputs": [],
   "source": []
  }
 ],
 "metadata": {
  "kernelspec": {
   "display_name": "Python 3 (ipykernel)",
   "language": "python",
   "name": "python3"
  },
  "language_info": {
   "codemirror_mode": {
    "name": "ipython",
    "version": 3
   },
   "file_extension": ".py",
   "mimetype": "text/x-python",
   "name": "python",
   "nbconvert_exporter": "python",
   "pygments_lexer": "ipython3",
   "version": "3.10.8"
  },
  "toc-autonumbering": true
 },
 "nbformat": 4,
 "nbformat_minor": 5
}
