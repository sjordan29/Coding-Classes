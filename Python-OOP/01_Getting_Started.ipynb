{
 "cells": [
  {
   "cell_type": "markdown",
   "id": "6caf1aa1-6f2d-466a-9e61-f9767dc03e97",
   "metadata": {},
   "source": [
    "# Classes and Objects\n",
    "\n",
    "## Challenge 1: Square Numbers and Return Sum\n",
    "\n",
    "Implement a class `Point` that has three properties and a method. All these attributes (properties and methods) should be public. This problem can be broken down into two tasks:\n",
    "* Implement a constructor to innitialize the values of three properties: `x`, `y`, and `z`\n",
    "* Impelment a method, `sqSum()` in the `Point` class which squares `x`, `y`, and `z` and returns their sum. "
   ]
  },
  {
   "cell_type": "code",
   "execution_count": 1,
   "id": "313dde18-fa6f-4cd5-9a13-02d7f7c65e45",
   "metadata": {},
   "outputs": [],
   "source": [
    "class Point:\n",
    "    def __init__(self, x, y, z):\n",
    "        self.x = x\n",
    "        self.y = y\n",
    "        self.z = z\n",
    "    \n",
    "    def sqSum(self):\n",
    "        return self.x**2 + self.y**2 + self.z**2"
   ]
  },
  {
   "cell_type": "code",
   "execution_count": 2,
   "id": "fe8faf6a-e6cd-4d0c-8aff-4219e8415cd7",
   "metadata": {},
   "outputs": [
    {
     "name": "stdout",
     "output_type": "stream",
     "text": [
      "29\n"
     ]
    }
   ],
   "source": [
    "p1 = Point(2, 3, 4)\n",
    "ss = p1.sqSum()\n",
    "print(ss)"
   ]
  },
  {
   "cell_type": "markdown",
   "id": "d623ab9b-871f-416f-aa22-18274aa4b4de",
   "metadata": {},
   "source": [
    "## Challenge 2: Calculate the Student's Performance \n",
    "Implement a `Student` class that has four properties and two methods. All attributes are public. \n",
    "* Implement a constructor to initialize the values of four properties: `name`, `phy`, `chem`, `bio`\n",
    "* Implement a `totalObtained` method in the `Student` class to calculate total marks of a student\n",
    "* Using `totalObtained`, implement another method, `percentage`, in the `Student` class that calculates the percentage of students marks. Assume the total marks sfo each subject are 100, combined marks of 3 sobjects are 300. "
   ]
  },
  {
   "cell_type": "code",
   "execution_count": 3,
   "id": "4b168a7a-19d7-42ac-989a-808dc6d0e65a",
   "metadata": {},
   "outputs": [],
   "source": [
    "class Student:\n",
    "    def __init__(self, name, phy, chem, bio):\n",
    "        self.name = name\n",
    "        self.phy = phy\n",
    "        self.chem = chem\n",
    "        self.bio = bio\n",
    "\n",
    "    def totalObtained(self):\n",
    "        return self.phy + self.chem + self.bio\n",
    "\n",
    "    def percentage(self):\n",
    "        return self.totalObtained() / 300 * 100\n"
   ]
  },
  {
   "cell_type": "code",
   "execution_count": 4,
   "id": "59bac2eb-7dcd-4e7d-88a8-a908346dc253",
   "metadata": {},
   "outputs": [
    {
     "name": "stdout",
     "output_type": "stream",
     "text": [
      "210\n",
      "70.0\n"
     ]
    }
   ],
   "source": [
    "demo1=Student(\"Mark\",80,90,40)\n",
    "print(demo1.totalObtained())\n",
    "print(demo1.percentage())"
   ]
  },
  {
   "cell_type": "markdown",
   "id": "3aa96e33-39f1-4117-a05c-ab671db02122",
   "metadata": {},
   "source": [
    "## Challenge 3: Implement a Calculator Class\n",
    "Write a Python class called `Calculator` by:\n",
    "* Implement an initializer to intialize the values of num1 and num2\n",
    "* add, subtract, multiply, divide methods "
   ]
  },
  {
   "cell_type": "code",
   "execution_count": 5,
   "id": "51455991-e4cf-4eaf-9a2c-adb457d8f6c4",
   "metadata": {},
   "outputs": [],
   "source": [
    "class Calculator:\n",
    "    def __init__(self, num1, num2):\n",
    "        self.num1 = num1\n",
    "        self.num2 = num2\n",
    "\n",
    "    def add(self):\n",
    "        return self.num1 + self.num2\n",
    "\n",
    "    def subtract(self):\n",
    "        return self.num2 - self.num1\n",
    "\n",
    "    def multiply(self):\n",
    "        return self.num1 * self.num2\n",
    "\n",
    "    def divide(self):\n",
    "        return self.num2 / self.num1\n"
   ]
  },
  {
   "cell_type": "code",
   "execution_count": 7,
   "id": "c2465fb9-bacc-4147-a24b-f03d27534593",
   "metadata": {},
   "outputs": [
    {
     "name": "stdout",
     "output_type": "stream",
     "text": [
      "104\n",
      "84\n",
      "940\n",
      "9.4\n"
     ]
    }
   ],
   "source": [
    "obj = Calculator(10, 94);\n",
    "print(obj.add())\n",
    "print(obj.subtract())\n",
    "print(obj.multiply())\n",
    "print(obj.divide())"
   ]
  },
  {
   "cell_type": "code",
   "execution_count": null,
   "id": "0508dd22-cd9c-484e-8962-840e9570f561",
   "metadata": {},
   "outputs": [],
   "source": []
  }
 ],
 "metadata": {
  "kernelspec": {
   "display_name": "Python 3 (ipykernel)",
   "language": "python",
   "name": "python3"
  },
  "language_info": {
   "codemirror_mode": {
    "name": "ipython",
    "version": 3
   },
   "file_extension": ".py",
   "mimetype": "text/x-python",
   "name": "python",
   "nbconvert_exporter": "python",
   "pygments_lexer": "ipython3",
   "version": "3.10.8"
  },
  "toc-autonumbering": true
 },
 "nbformat": 4,
 "nbformat_minor": 5
}
