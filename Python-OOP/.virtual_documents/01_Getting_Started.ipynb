class Point:
    def __init__(self, x, y, z):
        self.x = x
        self.y = y
        self.z = z
    
    def sqSum(self):
        return self.x**2 + self.y**2 + self.z**2


p1 = Point(2, 3, 4)
ss = p1.sqSum()
print(ss)


class Student:
    def __init__(self, name, phy, chem, bio):
        self.name = name
        self.phy = phy
        self.chem = chem
        self.bio = bio

    def totalObtained(self):
        return self.phy + self.chem + self.bio

    def percentage(self):
        return self.totalObtained() / 300 * 100



demo1=Student("Mark",80,90,40)
print(demo1.totalObtained())
print(demo1.percentage())


class Calculator:
    def __init__(self, num1, num2):
        self.num1 = num1
        self.num2 = num2

    def add(self):
        return self.num1 + self.num2

    def subtract(self):
        return self.num2 - self.num1

    def multiply(self):
        return self.num1 * self.num2

    def divide(self):
        return self.num2 / self.num1



obj = Calculator(10, 94);
print(obj.add())
print(obj.subtract())
print(obj.multiply())
print(obj.divide())



