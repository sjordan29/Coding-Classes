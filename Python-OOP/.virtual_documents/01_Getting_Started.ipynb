class Point:
    def __init__(self, x, y, z):
        self.x = x
        self.y = y
        self.z = z
    
    def sqSum(self):
        return self.x**2 + self.y**2 + self.z**2


p1 = Point(2, 3, 4)
ss = p1.sqSum()
print(ss)


class Student:
    def __init__(self, name, phy, chem, bio):
        self.name = name
        self.phy = phy
        self.chem = chem
        self.bio = bio

    def totalObtained(self):
        return self.phy + self.chem + self.bio

    def percentage(self):
        return self.totalObtained() / 300 * 100



demo1=Student("Mark",80,90,40)
print(demo1.totalObtained())
print(demo1.percentage())


class Calculator:
    def __init__(self, num1, num2):
        self.num1 = num1
        self.num2 = num2

    def add(self):
        return self.num1 + self.num2

    def subtract(self):
        return self.num2 - self.num1

    def multiply(self):
        return self.num1 * self.num2

    def divide(self):
        return self.num2 / self.num1



obj = Calculator(10, 94);
print(obj.add())
print(obj.subtract())
print(obj.multiply())
print(obj.divide())


class Rectangle:
    def __init__(self, length, width):
        self.__length = length
        self.__width = width

    def area(self):
        return self.__length * self.__width

    def perimeter(self):
        return 2 * (self.__length + self.__width)


r = Rectangle(4,5)
print(f"Area: {r.area()}")
print(f"Perimeter: {r.perimeter()}")


class Student:
    def __init__(self,  name=None, rollNumber=None):
        self.__name = name
        self.__rollNumber = rollNumber
        
    def setName(self, name):
        self.__name = name

    def getName(self):
        return self.__name

    def setRollNumber(self, rollNumber):
        self.__rollNumber = rollNumber

    def getRollNumber(self):
        return self.__rollNumber


s = Student()
s.setName("chad")
print(f"Student Name: {s.getName()}")
s.setRollNumber(12)
print(f"Student Name: {s.getRollNumber()}")


class Vehicle:  # defining the parent class
    fuelCap = 90


class Car(Vehicle):  # defining the child class
    fuelCap = 50

    def display(self):
        # accessing fuelCap from the Vehicle class using super()
        print("Fuel cap from the Vehicle Class:", super().fuelCap)

        # accessing fuelCap from the Car class using self
        print("Fuel cap from the Car Class:", self.fuelCap)


obj1 = Car()  # creating a car object
obj1.display()  # calling the Car class method display()


class Account:
    def __init__(self, title=None, balance=0):
        self.title = title
        self.balance = balance

class SavingsAccount(Account):
    def __init__(self, title=None, balance=0, interestRate=0):
        super().__init__(title, balance)
        self.interestRate = interestRate


print(SavingsAccount("Mark", 5000, 5).title)
print(SavingsAccount("Mark", 5000, 5).balance)
print(SavingsAccount("Mark", 5000, 5).interestRate)


class Account:
    def __init__(self, title=None, balance=0):
        self.title = title
        self.balance = balance

    def withdrawal(self, amount):
        self.balance -= amount

    def deposit(self, amount):
        self.balance += amount

    def getBalance(self):
        return (self.balance)


class SavingsAccount(Account):
    def __init__(self, title=None, balance=0, interestRate=0):
        super().__init__(title, balance)
        self.interestRate = interestRate

    def interestAmount(self):
        return (self.interestRate * self.balance) / 100


obj1 = SavingsAccount("Steve", 5000, 10)
print("Initial Balance:", obj1.getBalance())
obj1.withdrawal(1000)
print("Balance after withdrawal:", obj1.getBalance())
obj1.deposit(500)
print("Balance after deposit:", obj1.getBalance())
print("Interest on current balance:", obj1.interestAmount())



class Shape:
    sname = "Shape"

    def getName(self):
        return self.sname

class XShape(Shape):
    # initializer
    def __init__(self, name):
        self.xsname = name

    def getName(self):  # overriden method
        return (super().getName() + ", " + self.xsname)


circle = XShape("Circle");
circle.getName()


class Animal:
    def __init__(self, name, sound):
        self.name = name
        self.sound = sound
    
    def Animal_details(self):
        print(f"Name: {self.name}")
        print(f"Sound: {self.sound}")

class Dog(Animal):
    def __init__(self, name, sound, family):
        super().__init__(name, sound)
        self.family = family
    
    def Animal_details(self):
        super().Animal_details()
        print(f"Family: {self.family}")

class Sheep(Animal):
    def __init__(self, name, sound, color):
        super().__init__(name, sound)
        self.color = color
    
    def Animal_details(self):
        super().Animal_details()
        print(f"Color: {self.color}")


d = Dog("Pongo", "Woof Woof", "Husky")
d.Animal_details()
print(" ")
s = Sheep("Billy", "Baaa Baaa", "White")
s.Animal_details()


class Country:
    def __init__(self, name=None, population=0):
        self.name = name
        self.population = population

    def printDetails(self):
        print("Country Name:", self.name)
        print("Country Population", self.population)


class Person:
    def __init__(self, name, country):
        self.name = name
        self.country = country

    def printDetails(self):
        print("Person Name:", self.name)
        self.country.printDetails()


c = Country("Wales", 1500)
p = Person("Joe", c)
p.printDetails()

# deletes the object p
del p
print("")
c.printDetails()


class Engine:
    def __init__(self, capacity=0):
        self.capacity = capacity

    def printDetails(self):
        print("Engine Details:", self.capacity)


class Tires:
    def __init__(self, tires=0):
        self.tires = tires

    def printDetails(self):
        print("Number of tires:", self.tires)


class Doors:
    def __init__(self, doors=0):
        self.doors = doors

    def printDetails(self):
        print("Number of doors:", self.doors)


class Car:
    def __init__(self, eng, tr, dr, color):
        self.eObj = Engine(eng)
        self.tObj = Tires(tr)
        self.dObj = Doors(dr)
        self.color = color
        
    def printDetails(self):
        self.eObj.printDetails()
        self.tObj.printDetails()
        self.dObj.printDetails()
        print("Car color:", self.color)

car = Car(1600, 4, 2, "Grey")
car.printDetails()


class Car:
    def __init__(self, model, color):
        self.model = model
        self.color = color
    
    def printDetails(self):
        print("Model: ", self.model)
        print("Color: ", self.color)

class SedanEngine:
    def start(self):
        print("Car has started.")
    
    def stop(self):
        print("Car has stopped")


class Sedan(Car):
    def __init__(self, model, color):
        super().__init__(model, color)
        self.engine = SedanEngine()
    
    def setStart(self):
        self.engine.start()
    
    def setStop(self):
        self.engine.stop()


car1 = Sedan("Toyota","Grey")
car1.setStart()
car1.printDetails()
car1.setStop()


# Player class
class Player:
    def __init__(self, ID, name, teamName):
        self.ID = ID
        self.name = name
        self.teamName = teamName


# Team class contains a list of Player
# Objects
class Team:
    def __init__(self, name):
        self.name = name
        self.players = []
    
    def addPlayer(self, player):
        self.players.append(player)
    
    def getNumberofPlayers(self):
        return len(self.players)


# School class contains a list of Team
# objects.
class School:
    def __init__(self, name=""):
        self.teams = []
        self.name = name
    
    def addTeam(self, team):
        self.teams.append(team)
    
    def getTotalPlayersInSchool(self):
        total_players = 0
        for t in self.teams:
            total_players += t.getNumberofPlayers()
        return total_players


# Complete the implementation


p1 = Player(1, "Harris", "Red")
p2 = Player(2, "Carol", "Red")
p3 = Player(1, "Johnny", "Blue")
p4 = Player(2, "Sarah", "Blue")

red_team = Team("Red Team")
red_team.addPlayer(p1)
red_team.addPlayer(p2)

blue_team = Team("Blue Team")
blue_team.addPlayer(p2)
blue_team.addPlayer(p3)

mySchool = School("My School")
mySchool.addTeam(red_team)


print(mySchool.getTotalPlayersInSchool())
mySchool.addTeam(blue_team)
print(mySchool.getTotalPlayersInSchool())


class Salary:

    def __init__(self, base_pay=0, bonus=0):
        self.__base_pay = base_pay
        self.__bonus = bonus
    
    def get_bonus(self):
        return self.__bonus
    
    def set_bonus(self, bonus):
        self.__bonus = bonus
    
    def get_base_pay(self):
        return self.__base_pay
    
    def set_base_pay(self, base_pay):
        self.__base_pay = base_pay

    # Write methods Salary class here

class Employee:
    
    def __init__(self, name='', base_pay=0, bonus=0):
        self.__name = name 
        self.__salary = Salary(base_pay, bonus)
    
    def get_name(self):
        return self.__name

    def get_salary(self):
        return (self.__salary.get_base_pay() + self.__salary.get_bonus())
    
    def set_salary(self, base_pay, bonus):
        self.__salary.set_base_pay(base_pay)
        self.__salary.set_bonus(bonus)

    # Write methods for Employee class here
    


from abc import ABC, abstractmethod

# Define the Metal class here
class Metal(ABC):
    @abstractmethod
    def get_melting_point(self):
        pass 
    
# Define the Child classes here
class Aluminum(Metal):
    def get_melting_point(self):
        return 660

class Copper(Metal):
    def get_melting_point(self):
        return 1084
    
class Gold(Metal):
    def get_melting_point(self):
        return 1063


g = Gold()
g.get_melting_point()



