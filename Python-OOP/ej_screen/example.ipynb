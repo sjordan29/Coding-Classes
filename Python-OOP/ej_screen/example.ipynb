{
 "cells": [
  {
   "attachments": {},
   "cell_type": "markdown",
   "metadata": {},
   "source": [
    "# EJ Screen API"
   ]
  },
  {
   "cell_type": "code",
   "execution_count": 1,
   "metadata": {},
   "outputs": [],
   "source": [
    "import ejscreen as ej"
   ]
  },
  {
   "cell_type": "markdown",
   "metadata": {},
   "source": [
    "## Geometry\n",
    "\n",
    "### Point"
   ]
  },
  {
   "cell_type": "code",
   "execution_count": 2,
   "metadata": {},
   "outputs": [],
   "source": [
    "# initialize point\n",
    "cro = [(-92.956274, 44.950918)]\n"
   ]
  },
  {
   "attachments": {},
   "cell_type": "markdown",
   "metadata": {},
   "source": [
    "Set up the EJScreen API:"
   ]
  },
  {
   "cell_type": "code",
   "execution_count": 3,
   "metadata": {},
   "outputs": [
    {
     "name": "stdout",
     "output_type": "stream",
     "text": [
      "AOI type: Geometry\n",
      "Buffer required for Point type geometry. Assuming a buffer of 1 miles.\n"
     ]
    }
   ],
   "source": [
    "cro_ej = ej.EJScreenAPI(geometry=cro)"
   ]
  },
  {
   "attachments": {},
   "cell_type": "markdown",
   "metadata": {},
   "source": [
    "Send a request to EJ Screen:"
   ]
  },
  {
   "cell_type": "code",
   "execution_count": 4,
   "metadata": {},
   "outputs": [],
   "source": [
    "cro_ej.send_request()"
   ]
  },
  {
   "attachments": {},
   "cell_type": "markdown",
   "metadata": {},
   "source": [
    "Retrieve data, either as a json or a pandas dataframe:"
   ]
  },
  {
   "cell_type": "code",
   "execution_count": 5,
   "metadata": {},
   "outputs": [],
   "source": [
    "json_data = cro_ej.get_data()"
   ]
  },
  {
   "cell_type": "code",
   "execution_count": 6,
   "metadata": {},
   "outputs": [],
   "source": [
    "pandas_data = cro_ej.get_data(type=\"pandas\")\n"
   ]
  },
  {
   "attachments": {},
   "cell_type": "markdown",
   "metadata": {},
   "source": [
    "### Line"
   ]
  },
  {
   "cell_type": "code",
   "execution_count": 15,
   "metadata": {},
   "outputs": [
    {
     "name": "stdout",
     "output_type": "stream",
     "text": [
      "AOI type: Geometry\n"
     ]
    }
   ],
   "source": [
    "cro_line = [(-92.956274, 44.950918), (-92.8, 44.950918), (-92.7, 44.950918)]\n",
    "cro_line_ej = ej.EJScreenAPI(geometry=cro_line, buffer=3) # include a 3 mile buffer\n",
    "cro_line_ej.send_request()\n",
    "df_line = cro_line_ej.get_data(type=\"pandas\")"
   ]
  },
  {
   "cell_type": "code",
   "execution_count": 17,
   "metadata": {},
   "outputs": [
    {
     "data": {
      "text/html": [
       "<div>\n",
       "<style scoped>\n",
       "    .dataframe tbody tr th:only-of-type {\n",
       "        vertical-align: middle;\n",
       "    }\n",
       "\n",
       "    .dataframe tbody tr th {\n",
       "        vertical-align: top;\n",
       "    }\n",
       "\n",
       "    .dataframe thead th {\n",
       "        text-align: right;\n",
       "    }\n",
       "</style>\n",
       "<table border=\"1\" class=\"dataframe\">\n",
       "  <thead>\n",
       "    <tr style=\"text-align: right;\">\n",
       "      <th></th>\n",
       "      <th>RAW_D_MINOR</th>\n",
       "      <th>RAW_D_INCOME</th>\n",
       "      <th>RAW_D_LESSHS</th>\n",
       "      <th>RAW_D_LING</th>\n",
       "      <th>RAW_D_UNDER5</th>\n",
       "      <th>RAW_D_OVER64</th>\n",
       "      <th>RAW_D_UNEMPLOYED</th>\n",
       "      <th>RAW_D_INDEX</th>\n",
       "      <th>RAW_E_LEAD</th>\n",
       "      <th>RAW_E_DIESEL</th>\n",
       "      <th>...</th>\n",
       "      <th>weightLayerCount</th>\n",
       "      <th>timeSeconds</th>\n",
       "      <th>distance</th>\n",
       "      <th>unit</th>\n",
       "      <th>areaid</th>\n",
       "      <th>areatype</th>\n",
       "      <th>statlevel</th>\n",
       "      <th>inputAreaMiles</th>\n",
       "      <th>geometry.spatialReference.wkid</th>\n",
       "      <th>geometry.paths</th>\n",
       "    </tr>\n",
       "  </thead>\n",
       "  <tbody>\n",
       "    <tr>\n",
       "      <th>0</th>\n",
       "      <td>0.25</td>\n",
       "      <td>0.19</td>\n",
       "      <td>0.05</td>\n",
       "      <td>0.02</td>\n",
       "      <td>0.06</td>\n",
       "      <td>0.15</td>\n",
       "      <td>0.03</td>\n",
       "      <td>0.22</td>\n",
       "      <td>0.14</td>\n",
       "      <td>0.235</td>\n",
       "      <td>...</td>\n",
       "      <td>1747</td>\n",
       "      <td>0.563967</td>\n",
       "      <td>3</td>\n",
       "      <td>9035</td>\n",
       "      <td>NaN</td>\n",
       "      <td>NaN</td>\n",
       "      <td>blockgroup</td>\n",
       "      <td>103.67</td>\n",
       "      <td>4326</td>\n",
       "      <td>[[[-92.956274, 44.950918], [-92.8, 44.950918],...</td>\n",
       "    </tr>\n",
       "  </tbody>\n",
       "</table>\n",
       "<p>1 rows × 142 columns</p>\n",
       "</div>"
      ],
      "text/plain": [
       "   RAW_D_MINOR  RAW_D_INCOME  RAW_D_LESSHS  RAW_D_LING  RAW_D_UNDER5  \\\n",
       "0         0.25          0.19          0.05        0.02          0.06   \n",
       "\n",
       "   RAW_D_OVER64  RAW_D_UNEMPLOYED  RAW_D_INDEX  RAW_E_LEAD  RAW_E_DIESEL  ...  \\\n",
       "0          0.15              0.03         0.22        0.14         0.235  ...   \n",
       "\n",
       "   weightLayerCount  timeSeconds  distance  unit  areaid  areatype  \\\n",
       "0              1747     0.563967         3  9035     NaN       NaN   \n",
       "\n",
       "    statlevel  inputAreaMiles  geometry.spatialReference.wkid  \\\n",
       "0  blockgroup          103.67                            4326   \n",
       "\n",
       "                                      geometry.paths  \n",
       "0  [[[-92.956274, 44.950918], [-92.8, 44.950918],...  \n",
       "\n",
       "[1 rows x 142 columns]"
      ]
     },
     "execution_count": 17,
     "metadata": {},
     "output_type": "execute_result"
    }
   ],
   "source": [
    "df_line"
   ]
  },
  {
   "attachments": {},
   "cell_type": "markdown",
   "metadata": {},
   "source": [
    "### Polygon"
   ]
  },
  {
   "cell_type": "code",
   "execution_count": 96,
   "metadata": {},
   "outputs": [
    {
     "data": {
      "text/plain": [
       "<module 'ejscreen' from 'c:\\\\Users\\\\sjordan\\\\Documents\\\\GitHub\\\\Coding-Classes\\\\Python-OOP\\\\ej_screen\\\\ejscreen.py'>"
      ]
     },
     "execution_count": 96,
     "metadata": {},
     "output_type": "execute_result"
    }
   ],
   "source": [
    "import importlib\n",
    "importlib.reload(ej)"
   ]
  },
  {
   "cell_type": "code",
   "execution_count": 98,
   "metadata": {},
   "outputs": [
    {
     "name": "stdout",
     "output_type": "stream",
     "text": [
      "AOI type: Geometry\n"
     ]
    }
   ],
   "source": [
    "cro_polygon = [(-92.9563677836939,44.95203196198941),(-92.95496230617007,44.95210788975354),(-92.95526271357976,44.95040328726269),(-92.9569739629313,44.95031976423599),(-92.95699005618539,44.95030837472293),(-92.95745139613597,44.95093479458479),(-92.95770352378335,44.95173204633905),(-92.9563677836939,44.95203196198941)]\n",
    "cro_poly_ej = ej.EJScreenAPI(geometry=cro_polygon)\n",
    "cro_poly_ej.send_request()\n",
    "df_poly = cro_poly_ej.get_data(type=\"geopandas\")"
   ]
  },
  {
   "attachments": {},
   "cell_type": "markdown",
   "metadata": {},
   "source": [
    "### Geopandas\n",
    "Ultimately, we'd like to be able to allow users to input a geodataframe into the API and have it start a batch job. The steps would basically be as follows:\n",
    "* Identify as a batch job\n",
    "* Loop through each row in the geodataframe & identify AOI / set up payload based on geometry (already partially done!)\n",
    "* Initialize empty dictionary, dataframe, etc.\n",
    "* Send request for each row & save outputs to that single json / dataframe / geodataframe "
   ]
  },
  {
   "attachments": {},
   "cell_type": "markdown",
   "metadata": {},
   "source": [
    "## Census"
   ]
  },
  {
   "cell_type": "code",
   "execution_count": null,
   "metadata": {},
   "outputs": [],
   "source": []
  },
  {
   "cell_type": "code",
   "execution_count": null,
   "metadata": {},
   "outputs": [],
   "source": []
  },
  {
   "cell_type": "code",
   "execution_count": null,
   "metadata": {},
   "outputs": [],
   "source": []
  },
  {
   "cell_type": "code",
   "execution_count": null,
   "metadata": {},
   "outputs": [],
   "source": []
  },
  {
   "cell_type": "code",
   "execution_count": null,
   "metadata": {},
   "outputs": [],
   "source": []
  },
  {
   "cell_type": "markdown",
   "metadata": {},
   "source": []
  }
 ],
 "metadata": {
  "kernelspec": {
   "display_name": "nuveen_esg",
   "language": "python",
   "name": "python3"
  },
  "language_info": {
   "codemirror_mode": {
    "name": "ipython",
    "version": 3
   },
   "file_extension": ".py",
   "mimetype": "text/x-python",
   "name": "python",
   "nbconvert_exporter": "python",
   "pygments_lexer": "ipython3",
   "version": "3.9.12"
  },
  "orig_nbformat": 4,
  "vscode": {
   "interpreter": {
    "hash": "d5c7462d504368385234dbcf688f7537a286fd905c58a62145a3e1f2fa1e0e40"
   }
  }
 },
 "nbformat": 4,
 "nbformat_minor": 2
}
