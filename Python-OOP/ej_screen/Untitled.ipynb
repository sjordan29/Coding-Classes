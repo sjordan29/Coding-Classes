{
 "cells": [
  {
   "cell_type": "code",
   "execution_count": 1,
   "id": "e17fbbcb-0d9d-4a0b-880e-92e08dd7527b",
   "metadata": {},
   "outputs": [],
   "source": [
    "import requests\n",
    "import json"
   ]
  },
  {
   "cell_type": "code",
   "execution_count": null,
   "id": "88799380",
   "metadata": {},
   "outputs": [],
   "source": []
  },
  {
   "cell_type": "code",
   "execution_count": null,
   "id": "00a8bc85",
   "metadata": {},
   "outputs": [],
   "source": []
  },
  {
   "cell_type": "code",
   "execution_count": 172,
   "id": "413f7a1a",
   "metadata": {},
   "outputs": [],
   "source": [
    "post_url = \"https://ejscreen.epa.gov/mapper/ejscreenRESTbroker.aspx?namestr=&geometry={'spatialReference':{'wkid':4326},'x':-100.2761682128887,'y':36.65212177166241}&distance=1&unit=9035&areatype=&areaid=&f=pjson\""
   ]
  },
  {
   "cell_type": "code",
   "execution_count": 173,
   "id": "a8dbaa88",
   "metadata": {},
   "outputs": [],
   "source": [
    "r = requests.get(post_url)"
   ]
  },
  {
   "cell_type": "code",
   "execution_count": 171,
   "id": "32c302c3",
   "metadata": {},
   "outputs": [
    {
     "data": {
      "text/plain": [
       "'https://ejscreen.epa.gov/mapper/ejscreenRESTbroker.aspx'"
      ]
     },
     "execution_count": 171,
     "metadata": {},
     "output_type": "execute_result"
    }
   ],
   "source": [
    "r.url"
   ]
  },
  {
   "cell_type": "code",
   "execution_count": 174,
   "id": "c8124aac",
   "metadata": {},
   "outputs": [
    {
     "data": {
      "text/plain": [
       "{'RAW_D_MINOR': '8%',\n",
       " 'RAW_D_INCOME': '27%',\n",
       " 'RAW_D_LESSHS': '18%',\n",
       " 'RAW_D_LING': '6%',\n",
       " 'RAW_D_UNDER5': '0%',\n",
       " 'RAW_D_OVER64': '25%',\n",
       " 'RAW_D_UNEMPLOYED': '3%',\n",
       " 'RAW_D_INDEX': '18%',\n",
       " 'RAW_E_LEAD': '0.65',\n",
       " 'RAW_E_DIESEL': '0.0453',\n",
       " 'RAW_E_CANCER': '20',\n",
       " 'RAW_E_RESP': '0.2',\n",
       " 'RAW_E_TRAFFIC': '0.45',\n",
       " 'RAW_E_NPDES': '0.00041',\n",
       " 'RAW_E_NPL': '0.019',\n",
       " 'RAW_E_RMP': '0.081',\n",
       " 'RAW_E_TSDF': '0.014',\n",
       " 'RAW_E_O3': '49.3',\n",
       " 'RAW_E_PM25': '6.61',\n",
       " 'RAW_E_UST': '0.002',\n",
       " 'S_D_MINOR': '35%',\n",
       " 'S_D_INCOME': '36%',\n",
       " 'S_D_LESSHS': '11%',\n",
       " 'S_D_LING': '2%',\n",
       " 'S_D_UNDER5': '7%',\n",
       " 'S_D_OVER64': '16%',\n",
       " 'S_D_UNEMPLOYED': '5%',\n",
       " 'S_D_INDEX': '36%',\n",
       " 'S_E_LEAD': '0.23',\n",
       " 'S_E_DIESEL': '0.201',\n",
       " 'S_E_CANCER': '29',\n",
       " 'S_E_RESP': '0.39',\n",
       " 'S_E_TRAFFIC': '250',\n",
       " 'S_E_NPDES': '0.088',\n",
       " 'S_E_NPL': '0.047',\n",
       " 'S_E_RMP': '0.59',\n",
       " 'S_E_TSDF': '0.87',\n",
       " 'S_E_O3': '46',\n",
       " 'S_E_PM25': '9.64',\n",
       " 'S_E_UST': '1.7',\n",
       " 'S_D_MINOR_PER': '  5',\n",
       " 'S_D_INCOME_PER': ' 33',\n",
       " 'S_D_LESSHS_PER': ' 80',\n",
       " 'S_D_LING_PER': ' 90',\n",
       " 'S_D_UNDER5_PER': '  0',\n",
       " 'S_D_OVER64_PER': ' 85',\n",
       " 'S_D_UNEMPLOYED_PER': ' 45',\n",
       " 'S_D_INDEX_PER': ' 14',\n",
       " 'S_E_LEAD_PER': ' 88',\n",
       " 'S_E_DIESEL_PER': '  0',\n",
       " 'S_E_CANCER_PER': ' 16',\n",
       " 'S_E_RESP_PER': '  1',\n",
       " 'S_E_TRAFFIC_PER': '  2',\n",
       " 'S_E_NPDES_PER': ' 51',\n",
       " 'S_E_NPL_PER': ' 35',\n",
       " 'S_E_RMP_PER': ' 14',\n",
       " 'S_E_TSDF_PER': '  2',\n",
       " 'S_E_O3_PER': ' 99',\n",
       " 'S_E_PM25_PER': '  0',\n",
       " 'S_E_UST_PER': '  0',\n",
       " 'S_P_LEAD': ' 49',\n",
       " 'S_P_DIESEL': '  0',\n",
       " 'S_P_CANCER': '  4',\n",
       " 'S_P_RESP': '  0',\n",
       " 'S_P_TRAFFIC': '  3',\n",
       " 'S_P_NPDES': ' 31',\n",
       " 'S_P_NPL': ' 24',\n",
       " 'S_P_RMP': ' 10',\n",
       " 'S_P_TSDF': '  0',\n",
       " 'S_P_O3': ' 61',\n",
       " 'S_P_PM25': '  0',\n",
       " 'S_P_UST': '  0',\n",
       " 'N_D_MINOR': '40%',\n",
       " 'N_D_INCOME': '30%',\n",
       " 'N_D_LESSHS': '12%',\n",
       " 'N_D_LING': '5%',\n",
       " 'N_D_UNDER5': '6%',\n",
       " 'N_D_OVER64': '16%',\n",
       " 'N_D_UNEMPLOYED': '5%',\n",
       " 'N_D_INDEX': '35%',\n",
       " 'N_E_LEAD': '0.27',\n",
       " 'N_E_DIESEL': '0.294',\n",
       " 'N_E_CANCER': '28',\n",
       " 'N_E_RESP': '0.36',\n",
       " 'N_E_TRAFFIC': '760',\n",
       " 'N_E_NPDES': '12',\n",
       " 'N_E_NPL': '0.13',\n",
       " 'N_E_RMP': '0.77',\n",
       " 'N_E_TSDF': '2.2',\n",
       " 'N_E_O3': '42.5',\n",
       " 'N_E_PM25': '8.67',\n",
       " 'N_E_UST': '3.9',\n",
       " 'N_D_MINOR_PER': '21',\n",
       " 'N_D_INCOME_PER': '49',\n",
       " 'N_D_LESSHS_PER': '78',\n",
       " 'N_D_LING_PER': '78',\n",
       " 'N_D_UNDER5_PER': '0',\n",
       " 'N_D_OVER64_PER': '80',\n",
       " 'N_D_UNEMPLOYED_PER': '46',\n",
       " 'N_D_INDEX_PER': '27',\n",
       " 'N_E_LEAD_PER': '82',\n",
       " 'N_E_DIESEL_PER': '3',\n",
       " 'N_E_CANCER_PER': '34',\n",
       " 'N_E_RESP_PER': '16',\n",
       " 'N_E_TRAFFIC_PER': '1',\n",
       " 'N_E_NPDES_PER': '41',\n",
       " 'N_E_NPL_PER': '16',\n",
       " 'N_E_RMP_PER': '12',\n",
       " 'N_E_TSDF_PER': '1',\n",
       " 'N_E_O3_PER': '88',\n",
       " 'N_E_PM25_PER': '9',\n",
       " 'N_E_UST_PER': '0',\n",
       " 'N_P_LEAD': '57',\n",
       " 'N_P_DIESEL': '4',\n",
       " 'N_P_CANCER': '17',\n",
       " 'N_P_RESP': '10',\n",
       " 'N_P_TRAFFIC': '2',\n",
       " 'N_P_NPDES': '34',\n",
       " 'N_P_NPL': '15',\n",
       " 'N_P_RMP': '14',\n",
       " 'N_P_TSDF': '0',\n",
       " 'N_P_O3': '61',\n",
       " 'N_P_PM25': '11',\n",
       " 'N_P_UST': '28',\n",
       " 'stateAbbr': 'OK',\n",
       " 'stateName': 'OKLAHOMA',\n",
       " 'epaRegion': '6',\n",
       " 'totalPop': '16',\n",
       " 'NUM_NPL': '0',\n",
       " 'NUM_TSDF': '0',\n",
       " 'geometry': {'spatialReference': {'wkid': 4326},\n",
       "  'x': -100.2761682128887,\n",
       "  'y': 36.65212177166241},\n",
       " 'statLayerCount': '1',\n",
       " 'statLayerZeroPopCount': '0',\n",
       " 'weightLayerCount': '2',\n",
       " 'timeSeconds': '0.2321275',\n",
       " 'distance': '1',\n",
       " 'unit': '9035',\n",
       " 'areaid': None,\n",
       " 'areatype': None,\n",
       " 'statlevel': 'blockgroup',\n",
       " 'inputAreaMiles': '3.14'}"
      ]
     },
     "execution_count": 174,
     "metadata": {},
     "output_type": "execute_result"
    }
   ],
   "source": [
    "r.json()"
   ]
  },
  {
   "cell_type": "code",
   "execution_count": 165,
   "id": "b025a6d5-6af7-483d-9651-4f7bcb6aaf59",
   "metadata": {},
   "outputs": [],
   "source": [
    "response_get = requests.get(\"https://ejscreen.epa.gov/mapper/ejscreenRESTbroker.aspx?namestr=Lipscomb County&geometry=&distance=&unit=9035&areatype=county&areaid=48295&f=pjson\")"
   ]
  },
  {
   "cell_type": "code",
   "execution_count": 166,
   "id": "845bbb6c-211c-45f9-8dd4-7bdb5938bcb1",
   "metadata": {},
   "outputs": [
    {
     "data": {
      "text/plain": [
       "{'RAW_D_MINOR': '37%',\n",
       " 'RAW_D_INCOME': '29%',\n",
       " 'RAW_D_LESSHS': '17%',\n",
       " 'RAW_D_LING': '4%',\n",
       " 'RAW_D_UNDER5': '7%',\n",
       " 'RAW_D_OVER64': '16%',\n",
       " 'RAW_D_UNEMPLOYED': '6%',\n",
       " 'RAW_D_INDEX': '33%',\n",
       " 'RAW_E_LEAD': '0.33',\n",
       " 'RAW_E_DIESEL': '0.0512',\n",
       " 'RAW_E_CANCER': '20',\n",
       " 'RAW_E_RESP': '0.2',\n",
       " 'RAW_E_TRAFFIC': '5.3',\n",
       " 'RAW_E_NPDES': 'N/A',\n",
       " 'RAW_E_NPL': '0.028',\n",
       " 'RAW_E_RMP': '0.85',\n",
       " 'RAW_E_TSDF': '0.018',\n",
       " 'RAW_E_O3': '49.8',\n",
       " 'RAW_E_PM25': '6.66',\n",
       " 'RAW_E_UST': '0.024',\n",
       " 'S_D_MINOR': '59%',\n",
       " 'S_D_INCOME': '33%',\n",
       " 'S_D_LESSHS': '16%',\n",
       " 'S_D_LING': '7%',\n",
       " 'S_D_UNDER5': '7%',\n",
       " 'S_D_OVER64': '13%',\n",
       " 'S_D_UNEMPLOYED': '5%',\n",
       " 'S_D_INDEX': '46%',\n",
       " 'S_E_LEAD': '0.14',\n",
       " 'S_E_DIESEL': '0.211',\n",
       " 'S_E_CANCER': '31',\n",
       " 'S_E_RESP': '0.35',\n",
       " 'S_E_TRAFFIC': '570',\n",
       " 'S_E_NPDES': '0.38',\n",
       " 'S_E_NPL': '0.084',\n",
       " 'S_E_RMP': '0.94',\n",
       " 'S_E_TSDF': '0.72',\n",
       " 'S_E_O3': '40',\n",
       " 'S_E_PM25': '9.5',\n",
       " 'S_E_UST': '2.3',\n",
       " 'S_D_MINOR_PER': ' 30',\n",
       " 'S_D_INCOME_PER': ' 45',\n",
       " 'S_D_LESSHS_PER': ' 62',\n",
       " 'S_D_LING_PER': ' 55',\n",
       " 'S_D_UNDER5_PER': ' 61',\n",
       " 'S_D_OVER64_PER': ' 66',\n",
       " 'S_D_UNEMPLOYED_PER': ' 64',\n",
       " 'S_D_INDEX_PER': ' 34',\n",
       " 'S_E_LEAD_PER': ' 79',\n",
       " 'S_E_DIESEL_PER': '  3',\n",
       " 'S_E_CANCER_PER': ' 19',\n",
       " 'S_E_RESP_PER': '  8',\n",
       " 'S_E_TRAFFIC_PER': '  3',\n",
       " 'S_E_NPDES_PER': 'N/A',\n",
       " 'S_E_NPL_PER': ' 38',\n",
       " 'S_E_RMP_PER': ' 64',\n",
       " 'S_E_TSDF_PER': '  3',\n",
       " 'S_E_O3_PER': ' 91',\n",
       " 'S_E_PM25_PER': '  2',\n",
       " 'S_E_UST_PER': ' 14',\n",
       " 'S_P_LEAD': ' 61',\n",
       " 'S_P_DIESEL': '  4',\n",
       " 'S_P_CANCER': '  9',\n",
       " 'S_P_RESP': '  4',\n",
       " 'S_P_TRAFFIC': '  3',\n",
       " 'S_P_NPDES': 'N/A',\n",
       " 'S_P_NPL': ' 40',\n",
       " 'S_P_RMP': ' 50',\n",
       " 'S_P_TSDF': '  4',\n",
       " 'S_P_O3': ' 74',\n",
       " 'S_P_PM25': '  3',\n",
       " 'S_P_UST': ' 21',\n",
       " 'N_D_MINOR': '40%',\n",
       " 'N_D_INCOME': '30%',\n",
       " 'N_D_LESSHS': '12%',\n",
       " 'N_D_LING': '5%',\n",
       " 'N_D_UNDER5': '6%',\n",
       " 'N_D_OVER64': '16%',\n",
       " 'N_D_UNEMPLOYED': '5%',\n",
       " 'N_D_INDEX': '35%',\n",
       " 'N_E_LEAD': '0.27',\n",
       " 'N_E_DIESEL': '0.294',\n",
       " 'N_E_CANCER': '28',\n",
       " 'N_E_RESP': '0.36',\n",
       " 'N_E_TRAFFIC': '760',\n",
       " 'N_E_NPDES': '12',\n",
       " 'N_E_NPL': '0.13',\n",
       " 'N_E_RMP': '0.77',\n",
       " 'N_E_TSDF': '2.2',\n",
       " 'N_E_O3': '42.5',\n",
       " 'N_E_PM25': '8.67',\n",
       " 'N_E_UST': '3.9',\n",
       " 'N_D_MINOR_PER': '57',\n",
       " 'N_D_INCOME_PER': '52',\n",
       " 'N_D_LESSHS_PER': '76',\n",
       " 'N_D_LING_PER': '71',\n",
       " 'N_D_UNDER5_PER': '69',\n",
       " 'N_D_OVER64_PER': '54',\n",
       " 'N_D_UNEMPLOYED_PER': '63',\n",
       " 'N_D_INDEX_PER': '55',\n",
       " 'N_E_LEAD_PER': '60',\n",
       " 'N_E_DIESEL_PER': '3',\n",
       " 'N_E_CANCER_PER': '34',\n",
       " 'N_E_RESP_PER': '16',\n",
       " 'N_E_TRAFFIC_PER': '6',\n",
       " 'N_E_NPDES_PER': 'N/A',\n",
       " 'N_E_NPL_PER': '27',\n",
       " 'N_E_RMP_PER': '71',\n",
       " 'N_E_TSDF_PER': '2',\n",
       " 'N_E_O3_PER': '88',\n",
       " 'N_E_PM25_PER': '9',\n",
       " 'N_E_UST_PER': '23',\n",
       " 'N_P_LEAD': '64',\n",
       " 'N_P_DIESEL': '7',\n",
       " 'N_P_CANCER': '33',\n",
       " 'N_P_RESP': '19',\n",
       " 'N_P_TRAFFIC': '7',\n",
       " 'N_P_NPDES': 'N/A',\n",
       " 'N_P_NPL': '43',\n",
       " 'N_P_RMP': '64',\n",
       " 'N_P_TSDF': '3',\n",
       " 'N_P_O3': '80',\n",
       " 'N_P_PM25': '18',\n",
       " 'N_P_UST': '41',\n",
       " 'stateAbbr': 'TX',\n",
       " 'stateName': 'TEXAS',\n",
       " 'epaRegion': '6',\n",
       " 'totalPop': '3301',\n",
       " 'NUM_NPL': '0',\n",
       " 'NUM_TSDF': '0',\n",
       " 'geometry': None,\n",
       " 'statLayerCount': '2',\n",
       " 'statLayerZeroPopCount': '0',\n",
       " 'weightLayerCount': '0',\n",
       " 'timeSeconds': '0.160979',\n",
       " 'distance': '0',\n",
       " 'unit': '9035',\n",
       " 'areaid': '48295',\n",
       " 'areatype': 'county',\n",
       " 'statlevel': 'blockgroup',\n",
       " 'inputAreaMiles': '932.32'}"
      ]
     },
     "execution_count": 166,
     "metadata": {},
     "output_type": "execute_result"
    }
   ],
   "source": [
    "response_get.json()"
   ]
  },
  {
   "cell_type": "code",
   "execution_count": 175,
   "id": "d981446d-eaeb-48c6-b843-5599d15d4b71",
   "metadata": {},
   "outputs": [],
   "source": [
    "post_url = \"https://ejscreen.epa.gov/mapper/ejscreenRESTbroker.aspx\""
   ]
  },
  {
   "cell_type": "code",
   "execution_count": 35,
   "id": "ace1996e-a4ec-4966-9bee-15e26de8890f",
   "metadata": {},
   "outputs": [],
   "source": [
    "payload = {\n",
    "    'namestr':'Lane County',\n",
    "    'unit':'9035',\n",
    "    'areatype':'county',\n",
    "    'areaid':'20101',\n",
    "    'f':'pjson'\n",
    "}"
   ]
  },
  {
   "cell_type": "code",
   "execution_count": 84,
   "id": "e7c08d4e",
   "metadata": {},
   "outputs": [],
   "source": [
    "payload = {\n",
    "    'geometry': '{\"spatialReference\": {\"wkid\": 4326}, \"x\": -100.26887260436821, \"y\": 36.64757689108075}',\n",
    "    'distance': 1,\n",
    "    'unit': 9035}"
   ]
  },
  {
   "cell_type": "code",
   "execution_count": 96,
   "id": "a4ac0a3d",
   "metadata": {},
   "outputs": [],
   "source": [
    "from urllib.parse import urlencode\n",
    "\n",
    "payload_str = urlencode(payload, safe=':+{}[]\"\", ')"
   ]
  },
  {
   "cell_type": "code",
   "execution_count": 105,
   "id": "353e4ddf",
   "metadata": {},
   "outputs": [
    {
     "data": {
      "text/plain": [
       "'geometry={\"spatialReference\":+{\"wkid\":+4326},+\"x\":+-100.26887260436821,+\"y\":+36.64757689108075}&distance=1&unit=9035'"
      ]
     },
     "execution_count": 105,
     "metadata": {},
     "output_type": "execute_result"
    }
   ],
   "source": [
    "payload_str"
   ]
  },
  {
   "cell_type": "code",
   "execution_count": 124,
   "id": "eb921ade",
   "metadata": {},
   "outputs": [],
   "source": [
    "str_url = post_url  + \"?\" + payload_str"
   ]
  },
  {
   "cell_type": "code",
   "execution_count": 125,
   "id": "d65a58df",
   "metadata": {},
   "outputs": [
    {
     "data": {
      "text/plain": [
       "'https://ejscreen.epa.gov/mapper/ejscreenRESTbroker.aspx?geometry={\"spatialReference\":+{\"wkid\":+4326},+\"x\":+-100.26887260436821,+\"y\":+36.64757689108075}&distance=1&unit=9035'"
      ]
     },
     "execution_count": 125,
     "metadata": {},
     "output_type": "execute_result"
    }
   ],
   "source": [
    "str_url"
   ]
  },
  {
   "cell_type": "code",
   "execution_count": 126,
   "id": "ed39487f-d643-4771-883e-24989e916108",
   "metadata": {},
   "outputs": [],
   "source": [
    "response = requests.get(str_url)"
   ]
  },
  {
   "cell_type": "code",
   "execution_count": 127,
   "id": "837a49a2",
   "metadata": {},
   "outputs": [
    {
     "data": {
      "text/plain": [
       "'https://ejscreen.epa.gov/mapper/ejscreenRESTbroker.aspx?geometry=%7B%22spatialReference%22:+%7B%22wkid%22:+4326%7D,+%22x%22:+-100.26887260436821,+%22y%22:+36.64757689108075%7D&distance=1&unit=9035'"
      ]
     },
     "execution_count": 127,
     "metadata": {},
     "output_type": "execute_result"
    }
   ],
   "source": [
    "response.url"
   ]
  },
  {
   "cell_type": "code",
   "execution_count": 108,
   "id": "3ea711f4-f943-437a-955f-4717e7f87f0f",
   "metadata": {},
   "outputs": [
    {
     "ename": "JSONDecodeError",
     "evalue": "[Errno Expecting value] : 0",
     "output_type": "error",
     "traceback": [
      "\u001b[1;31m---------------------------------------------------------------------------\u001b[0m",
      "\u001b[1;31mJSONDecodeError\u001b[0m                           Traceback (most recent call last)",
      "File \u001b[1;32mc:\\Users\\sjordan\\Anaconda3\\envs\\nuveen_esg\\lib\\site-packages\\requests\\models.py:910\u001b[0m, in \u001b[0;36mResponse.json\u001b[1;34m(self, **kwargs)\u001b[0m\n\u001b[0;32m    909\u001b[0m \u001b[39mtry\u001b[39;00m:\n\u001b[1;32m--> 910\u001b[0m     \u001b[39mreturn\u001b[39;00m complexjson\u001b[39m.\u001b[39mloads(\u001b[39mself\u001b[39m\u001b[39m.\u001b[39mtext, \u001b[39m*\u001b[39m\u001b[39m*\u001b[39mkwargs)\n\u001b[0;32m    911\u001b[0m \u001b[39mexcept\u001b[39;00m JSONDecodeError \u001b[39mas\u001b[39;00m e:\n\u001b[0;32m    912\u001b[0m     \u001b[39m# Catch JSON-related errors and raise as requests.JSONDecodeError\u001b[39;00m\n\u001b[0;32m    913\u001b[0m     \u001b[39m# This aliases json.JSONDecodeError and simplejson.JSONDecodeError\u001b[39;00m\n",
      "File \u001b[1;32mc:\\Users\\sjordan\\Anaconda3\\envs\\nuveen_esg\\lib\\json\\__init__.py:346\u001b[0m, in \u001b[0;36mloads\u001b[1;34m(s, cls, object_hook, parse_float, parse_int, parse_constant, object_pairs_hook, **kw)\u001b[0m\n\u001b[0;32m    343\u001b[0m \u001b[39mif\u001b[39;00m (\u001b[39mcls\u001b[39m \u001b[39mis\u001b[39;00m \u001b[39mNone\u001b[39;00m \u001b[39mand\u001b[39;00m object_hook \u001b[39mis\u001b[39;00m \u001b[39mNone\u001b[39;00m \u001b[39mand\u001b[39;00m\n\u001b[0;32m    344\u001b[0m         parse_int \u001b[39mis\u001b[39;00m \u001b[39mNone\u001b[39;00m \u001b[39mand\u001b[39;00m parse_float \u001b[39mis\u001b[39;00m \u001b[39mNone\u001b[39;00m \u001b[39mand\u001b[39;00m\n\u001b[0;32m    345\u001b[0m         parse_constant \u001b[39mis\u001b[39;00m \u001b[39mNone\u001b[39;00m \u001b[39mand\u001b[39;00m object_pairs_hook \u001b[39mis\u001b[39;00m \u001b[39mNone\u001b[39;00m \u001b[39mand\u001b[39;00m \u001b[39mnot\u001b[39;00m kw):\n\u001b[1;32m--> 346\u001b[0m     \u001b[39mreturn\u001b[39;00m _default_decoder\u001b[39m.\u001b[39;49mdecode(s)\n\u001b[0;32m    347\u001b[0m \u001b[39mif\u001b[39;00m \u001b[39mcls\u001b[39m \u001b[39mis\u001b[39;00m \u001b[39mNone\u001b[39;00m:\n",
      "File \u001b[1;32mc:\\Users\\sjordan\\Anaconda3\\envs\\nuveen_esg\\lib\\json\\decoder.py:337\u001b[0m, in \u001b[0;36mJSONDecoder.decode\u001b[1;34m(self, s, _w)\u001b[0m\n\u001b[0;32m    333\u001b[0m \u001b[39m\"\"\"Return the Python representation of ``s`` (a ``str`` instance\u001b[39;00m\n\u001b[0;32m    334\u001b[0m \u001b[39mcontaining a JSON document).\u001b[39;00m\n\u001b[0;32m    335\u001b[0m \n\u001b[0;32m    336\u001b[0m \u001b[39m\"\"\"\u001b[39;00m\n\u001b[1;32m--> 337\u001b[0m obj, end \u001b[39m=\u001b[39m \u001b[39mself\u001b[39;49m\u001b[39m.\u001b[39;49mraw_decode(s, idx\u001b[39m=\u001b[39;49m_w(s, \u001b[39m0\u001b[39;49m)\u001b[39m.\u001b[39;49mend())\n\u001b[0;32m    338\u001b[0m end \u001b[39m=\u001b[39m _w(s, end)\u001b[39m.\u001b[39mend()\n",
      "File \u001b[1;32mc:\\Users\\sjordan\\Anaconda3\\envs\\nuveen_esg\\lib\\json\\decoder.py:355\u001b[0m, in \u001b[0;36mJSONDecoder.raw_decode\u001b[1;34m(self, s, idx)\u001b[0m\n\u001b[0;32m    354\u001b[0m \u001b[39mexcept\u001b[39;00m \u001b[39mStopIteration\u001b[39;00m \u001b[39mas\u001b[39;00m err:\n\u001b[1;32m--> 355\u001b[0m     \u001b[39mraise\u001b[39;00m JSONDecodeError(\u001b[39m\"\u001b[39m\u001b[39mExpecting value\u001b[39m\u001b[39m\"\u001b[39m, s, err\u001b[39m.\u001b[39mvalue) \u001b[39mfrom\u001b[39;00m \u001b[39mNone\u001b[39m\n\u001b[0;32m    356\u001b[0m \u001b[39mreturn\u001b[39;00m obj, end\n",
      "\u001b[1;31mJSONDecodeError\u001b[0m: Expecting value: line 1 column 1 (char 0)",
      "\nDuring handling of the above exception, another exception occurred:\n",
      "\u001b[1;31mJSONDecodeError\u001b[0m                           Traceback (most recent call last)",
      "\u001b[1;32mc:\\Users\\sjordan\\Documents\\GitHub\\Coding-Classes\\Python-OOP\\ej_screen\\Untitled.ipynb Cell 15\u001b[0m in \u001b[0;36m<cell line: 1>\u001b[1;34m()\u001b[0m\n\u001b[1;32m----> <a href='vscode-notebook-cell:/c%3A/Users/sjordan/Documents/GitHub/Coding-Classes/Python-OOP/ej_screen/Untitled.ipynb#W6sZmlsZQ%3D%3D?line=0'>1</a>\u001b[0m response\u001b[39m.\u001b[39;49mjson()\n",
      "File \u001b[1;32mc:\\Users\\sjordan\\Anaconda3\\envs\\nuveen_esg\\lib\\site-packages\\requests\\models.py:917\u001b[0m, in \u001b[0;36mResponse.json\u001b[1;34m(self, **kwargs)\u001b[0m\n\u001b[0;32m    915\u001b[0m     \u001b[39mraise\u001b[39;00m RequestsJSONDecodeError(e\u001b[39m.\u001b[39mmessage)\n\u001b[0;32m    916\u001b[0m \u001b[39melse\u001b[39;00m:\n\u001b[1;32m--> 917\u001b[0m     \u001b[39mraise\u001b[39;00m RequestsJSONDecodeError(e\u001b[39m.\u001b[39mmsg, e\u001b[39m.\u001b[39mdoc, e\u001b[39m.\u001b[39mpos)\n",
      "\u001b[1;31mJSONDecodeError\u001b[0m: [Errno Expecting value] : 0"
     ]
    }
   ],
   "source": [
    "response.json()"
   ]
  },
  {
   "cell_type": "code",
   "execution_count": 121,
   "id": "b1eb1191",
   "metadata": {},
   "outputs": [
    {
     "name": "stdout",
     "output_type": "stream",
     "text": [
      "https://ejscreen.epa.gov/mapper/ejscreenRESTbroker.aspx?geometry={\"spatialReference\":{\"wkid\":4326},\"x\":-100.26887260436821,\"y\":36.64757689108075}&distance=1&unit=9035\n"
     ]
    }
   ],
   "source": [
    "\n",
    "\n",
    "s = requests.Session()\n",
    "req = requests.Request('GET', post_url)\n",
    "p = req.prepare()\n",
    "p.url += '?'\n",
    "p.url += payload_str.replace(\"+\", \"\")\n",
    "resp = s.send(p)\n",
    "print(resp.request.url)"
   ]
  },
  {
   "cell_type": "code",
   "execution_count": null,
   "id": "d6c39109",
   "metadata": {},
   "outputs": [],
   "source": [
    "https://ejscreen.epa.gov/mapper/ejscreenRESTbroker.aspx?namestr=&geometry={\"spatialReference\":{\"wkid\":4326},\"x\":-100.29118858337209,\"y\":36.65198405194937}&distance=1&unit=9035&areatype=&areaid=&f=pjson"
   ]
  },
  {
   "cell_type": "code",
   "execution_count": 122,
   "id": "daf79f69-f701-482a-abc9-ee12a917d2ed",
   "metadata": {},
   "outputs": [
    {
     "ename": "JSONDecodeError",
     "evalue": "[Errno Expecting value] : 0",
     "output_type": "error",
     "traceback": [
      "\u001b[1;31m---------------------------------------------------------------------------\u001b[0m",
      "\u001b[1;31mJSONDecodeError\u001b[0m                           Traceback (most recent call last)",
      "File \u001b[1;32mc:\\Users\\sjordan\\Anaconda3\\envs\\nuveen_esg\\lib\\site-packages\\requests\\models.py:910\u001b[0m, in \u001b[0;36mResponse.json\u001b[1;34m(self, **kwargs)\u001b[0m\n\u001b[0;32m    909\u001b[0m \u001b[39mtry\u001b[39;00m:\n\u001b[1;32m--> 910\u001b[0m     \u001b[39mreturn\u001b[39;00m complexjson\u001b[39m.\u001b[39mloads(\u001b[39mself\u001b[39m\u001b[39m.\u001b[39mtext, \u001b[39m*\u001b[39m\u001b[39m*\u001b[39mkwargs)\n\u001b[0;32m    911\u001b[0m \u001b[39mexcept\u001b[39;00m JSONDecodeError \u001b[39mas\u001b[39;00m e:\n\u001b[0;32m    912\u001b[0m     \u001b[39m# Catch JSON-related errors and raise as requests.JSONDecodeError\u001b[39;00m\n\u001b[0;32m    913\u001b[0m     \u001b[39m# This aliases json.JSONDecodeError and simplejson.JSONDecodeError\u001b[39;00m\n",
      "File \u001b[1;32mc:\\Users\\sjordan\\Anaconda3\\envs\\nuveen_esg\\lib\\json\\__init__.py:346\u001b[0m, in \u001b[0;36mloads\u001b[1;34m(s, cls, object_hook, parse_float, parse_int, parse_constant, object_pairs_hook, **kw)\u001b[0m\n\u001b[0;32m    343\u001b[0m \u001b[39mif\u001b[39;00m (\u001b[39mcls\u001b[39m \u001b[39mis\u001b[39;00m \u001b[39mNone\u001b[39;00m \u001b[39mand\u001b[39;00m object_hook \u001b[39mis\u001b[39;00m \u001b[39mNone\u001b[39;00m \u001b[39mand\u001b[39;00m\n\u001b[0;32m    344\u001b[0m         parse_int \u001b[39mis\u001b[39;00m \u001b[39mNone\u001b[39;00m \u001b[39mand\u001b[39;00m parse_float \u001b[39mis\u001b[39;00m \u001b[39mNone\u001b[39;00m \u001b[39mand\u001b[39;00m\n\u001b[0;32m    345\u001b[0m         parse_constant \u001b[39mis\u001b[39;00m \u001b[39mNone\u001b[39;00m \u001b[39mand\u001b[39;00m object_pairs_hook \u001b[39mis\u001b[39;00m \u001b[39mNone\u001b[39;00m \u001b[39mand\u001b[39;00m \u001b[39mnot\u001b[39;00m kw):\n\u001b[1;32m--> 346\u001b[0m     \u001b[39mreturn\u001b[39;00m _default_decoder\u001b[39m.\u001b[39;49mdecode(s)\n\u001b[0;32m    347\u001b[0m \u001b[39mif\u001b[39;00m \u001b[39mcls\u001b[39m \u001b[39mis\u001b[39;00m \u001b[39mNone\u001b[39;00m:\n",
      "File \u001b[1;32mc:\\Users\\sjordan\\Anaconda3\\envs\\nuveen_esg\\lib\\json\\decoder.py:337\u001b[0m, in \u001b[0;36mJSONDecoder.decode\u001b[1;34m(self, s, _w)\u001b[0m\n\u001b[0;32m    333\u001b[0m \u001b[39m\"\"\"Return the Python representation of ``s`` (a ``str`` instance\u001b[39;00m\n\u001b[0;32m    334\u001b[0m \u001b[39mcontaining a JSON document).\u001b[39;00m\n\u001b[0;32m    335\u001b[0m \n\u001b[0;32m    336\u001b[0m \u001b[39m\"\"\"\u001b[39;00m\n\u001b[1;32m--> 337\u001b[0m obj, end \u001b[39m=\u001b[39m \u001b[39mself\u001b[39;49m\u001b[39m.\u001b[39;49mraw_decode(s, idx\u001b[39m=\u001b[39;49m_w(s, \u001b[39m0\u001b[39;49m)\u001b[39m.\u001b[39;49mend())\n\u001b[0;32m    338\u001b[0m end \u001b[39m=\u001b[39m _w(s, end)\u001b[39m.\u001b[39mend()\n",
      "File \u001b[1;32mc:\\Users\\sjordan\\Anaconda3\\envs\\nuveen_esg\\lib\\json\\decoder.py:355\u001b[0m, in \u001b[0;36mJSONDecoder.raw_decode\u001b[1;34m(self, s, idx)\u001b[0m\n\u001b[0;32m    354\u001b[0m \u001b[39mexcept\u001b[39;00m \u001b[39mStopIteration\u001b[39;00m \u001b[39mas\u001b[39;00m err:\n\u001b[1;32m--> 355\u001b[0m     \u001b[39mraise\u001b[39;00m JSONDecodeError(\u001b[39m\"\u001b[39m\u001b[39mExpecting value\u001b[39m\u001b[39m\"\u001b[39m, s, err\u001b[39m.\u001b[39mvalue) \u001b[39mfrom\u001b[39;00m \u001b[39mNone\u001b[39m\n\u001b[0;32m    356\u001b[0m \u001b[39mreturn\u001b[39;00m obj, end\n",
      "\u001b[1;31mJSONDecodeError\u001b[0m: Expecting value: line 1 column 1 (char 0)",
      "\nDuring handling of the above exception, another exception occurred:\n",
      "\u001b[1;31mJSONDecodeError\u001b[0m                           Traceback (most recent call last)",
      "\u001b[1;32mc:\\Users\\sjordan\\Documents\\GitHub\\Coding-Classes\\Python-OOP\\ej_screen\\Untitled.ipynb Cell 18\u001b[0m in \u001b[0;36m<cell line: 1>\u001b[1;34m()\u001b[0m\n\u001b[1;32m----> <a href='vscode-notebook-cell:/c%3A/Users/sjordan/Documents/GitHub/Coding-Classes/Python-OOP/ej_screen/Untitled.ipynb#X10sZmlsZQ%3D%3D?line=0'>1</a>\u001b[0m resp\u001b[39m.\u001b[39;49mjson()\n",
      "File \u001b[1;32mc:\\Users\\sjordan\\Anaconda3\\envs\\nuveen_esg\\lib\\site-packages\\requests\\models.py:917\u001b[0m, in \u001b[0;36mResponse.json\u001b[1;34m(self, **kwargs)\u001b[0m\n\u001b[0;32m    915\u001b[0m     \u001b[39mraise\u001b[39;00m RequestsJSONDecodeError(e\u001b[39m.\u001b[39mmessage)\n\u001b[0;32m    916\u001b[0m \u001b[39melse\u001b[39;00m:\n\u001b[1;32m--> 917\u001b[0m     \u001b[39mraise\u001b[39;00m RequestsJSONDecodeError(e\u001b[39m.\u001b[39mmsg, e\u001b[39m.\u001b[39mdoc, e\u001b[39m.\u001b[39mpos)\n",
      "\u001b[1;31mJSONDecodeError\u001b[0m: [Errno Expecting value] : 0"
     ]
    }
   ],
   "source": [
    "resp.json()"
   ]
  },
  {
   "cell_type": "code",
   "execution_count": 38,
   "id": "9b17f7b5-f06e-492e-b8b6-e2e3919a3a2a",
   "metadata": {},
   "outputs": [],
   "source": [
    "response.close()"
   ]
  },
  {
   "cell_type": "code",
   "execution_count": 3,
   "id": "e550ccd2-9abe-4e8a-9116-5d1db171f4d5",
   "metadata": {},
   "outputs": [
    {
     "data": {
      "text/plain": [
       "<module 'ejscreen' from 'c:\\\\Users\\\\sjordan\\\\Documents\\\\GitHub\\\\Coding-Classes\\\\Python-OOP\\\\ej_screen\\\\ejscreen.py'>"
      ]
     },
     "execution_count": 3,
     "metadata": {},
     "output_type": "execute_result"
    }
   ],
   "source": [
    "from importlib import reload"
   ]
  },
  {
   "cell_type": "code",
   "execution_count": 21,
   "id": "1ea3ddf2-689c-45a4-8e73-a9b5f4fdbee6",
   "metadata": {},
   "outputs": [],
   "source": [
    "import ejscreen\n",
    "from shapely.geometry import Polygon, LineString, Point"
   ]
  },
  {
   "cell_type": "code",
   "execution_count": 189,
   "id": "865432b4",
   "metadata": {},
   "outputs": [
    {
     "data": {
      "text/plain": [
       "<module 'ejscreen' from 'c:\\\\Users\\\\sjordan\\\\Documents\\\\GitHub\\\\Coding-Classes\\\\Python-OOP\\\\ej_screen\\\\ejscreen.py'>"
      ]
     },
     "execution_count": 189,
     "metadata": {},
     "output_type": "execute_result"
    }
   ],
   "source": [
    "reload(ejscreen)"
   ]
  },
  {
   "cell_type": "code",
   "execution_count": 190,
   "id": "3e10c2f4-4d6a-4689-b501-857743a330e8",
   "metadata": {},
   "outputs": [],
   "source": [
    "geo = ejscreen.EJPoint(Point((-100.26887260436821,36.64757689108075)))"
   ]
  },
  {
   "cell_type": "code",
   "execution_count": 191,
   "id": "eb7db92c",
   "metadata": {},
   "outputs": [
    {
     "data": {
      "text/plain": [
       "{'namestr': '',\n",
       " 'geometry': \"{'spatialReference': {'wkid': 4326}, 'x': -100.26887260436821, 'y': 36.64757689108075}\",\n",
       " 'distance': '1',\n",
       " 'unit': '9035',\n",
       " 'areatype': '',\n",
       " 'areaid': '',\n",
       " 'f': 'pjson'}"
      ]
     },
     "execution_count": 191,
     "metadata": {},
     "output_type": "execute_result"
    }
   ],
   "source": [
    "geo.payload"
   ]
  },
  {
   "cell_type": "code",
   "execution_count": 192,
   "id": "c303f232",
   "metadata": {},
   "outputs": [],
   "source": [
    "import requests\n",
    "\n"
   ]
  },
  {
   "cell_type": "code",
   "execution_count": 193,
   "id": "830a5c4a",
   "metadata": {},
   "outputs": [],
   "source": [
    "string = \"https://ejscreen.epa.gov/mapper/ejscreenRESTbroker.aspx?namestr=&geometry={'spatialReference':{'wkid':4326},'x':-100.2761682128887,'y':36.65212177166241}&distance=1&unit=9035&areatype=&areaid=&f=pjson\"\n"
   ]
  },
  {
   "cell_type": "code",
   "execution_count": 198,
   "id": "7193be72",
   "metadata": {},
   "outputs": [
    {
     "ename": "SyntaxError",
     "evalue": "f-string: unmatched '(' (631202194.py, line 1)",
     "output_type": "error",
     "traceback": [
      "\u001b[1;36m  Input \u001b[1;32mIn [198]\u001b[1;36m\u001b[0m\n\u001b[1;33m    created_string = f\"{post_url}?{urlencode(geo.payload, safe=\":+{}[]'', \").replace(\"+\", '')}\"\u001b[0m\n\u001b[1;37m                                                                ^\u001b[0m\n\u001b[1;31mSyntaxError\u001b[0m\u001b[1;31m:\u001b[0m f-string: unmatched '('\n"
     ]
    }
   ],
   "source": [
    "created_string = f\" + \"?\" +  urlencode(geo.payload, safe=\":+{}[]'', \").replace(\"+\", '')"
   ]
  },
  {
   "cell_type": "code",
   "execution_count": 194,
   "id": "8c864dab",
   "metadata": {},
   "outputs": [
    {
     "name": "stdout",
     "output_type": "stream",
     "text": [
      "https://ejscreen.epa.gov/mapper/ejscreenRESTbroker.aspx?namestr=&geometry={'spatialReference':{'wkid':4326},'x':-100.2761682128887,'y':36.65212177166241}&distance=1&unit=9035&areatype=&areaid=&f=pjson\n",
      "https://ejscreen.epa.gov/mapper/ejscreenRESTbroker.aspx?namestr=&geometry={'spatialReference':{'wkid':4326},'x':-100.26887260436821,'y':36.64757689108075}&distance=1&unit=9035&areatype=&areaid=&f=pjson\n"
     ]
    }
   ],
   "source": [
    "print(string)\n",
    "print(created_string)"
   ]
  },
  {
   "cell_type": "code",
   "execution_count": 195,
   "id": "d1a22212",
   "metadata": {},
   "outputs": [],
   "source": [
    "response = requests.get(created_string)"
   ]
  },
  {
   "cell_type": "code",
   "execution_count": 153,
   "id": "dd4fec5b",
   "metadata": {},
   "outputs": [
    {
     "data": {
      "text/plain": [
       "\"geometry={'spatialReference':+{'wkid':+4326},+'paths':+[[-100.26887260436821,+36.64757689108075],+[-102.26887260436821,+36.64757689108075]]}&distance=1&unit=9035\""
      ]
     },
     "execution_count": 153,
     "metadata": {},
     "output_type": "execute_result"
    }
   ],
   "source": [
    "urlencode(geo.payload, safe=\":+{}[]'', \")"
   ]
  },
  {
   "cell_type": "code",
   "execution_count": 197,
   "id": "34941ce9",
   "metadata": {},
   "outputs": [
    {
     "data": {
      "text/plain": [
       "{'RAW_D_MINOR': '8%',\n",
       " 'RAW_D_INCOME': '27%',\n",
       " 'RAW_D_LESSHS': '18%',\n",
       " 'RAW_D_LING': '6%',\n",
       " 'RAW_D_UNDER5': '0%',\n",
       " 'RAW_D_OVER64': '25%',\n",
       " 'RAW_D_UNEMPLOYED': '3%',\n",
       " 'RAW_D_INDEX': '18%',\n",
       " 'RAW_E_LEAD': '0.65',\n",
       " 'RAW_E_DIESEL': '0.0453',\n",
       " 'RAW_E_CANCER': '20',\n",
       " 'RAW_E_RESP': '0.2',\n",
       " 'RAW_E_TRAFFIC': '0.45',\n",
       " 'RAW_E_NPDES': '0.00041',\n",
       " 'RAW_E_NPL': '0.019',\n",
       " 'RAW_E_RMP': '0.081',\n",
       " 'RAW_E_TSDF': '0.014',\n",
       " 'RAW_E_O3': '49.3',\n",
       " 'RAW_E_PM25': '6.61',\n",
       " 'RAW_E_UST': '0.002',\n",
       " 'S_D_MINOR': '35%',\n",
       " 'S_D_INCOME': '36%',\n",
       " 'S_D_LESSHS': '11%',\n",
       " 'S_D_LING': '2%',\n",
       " 'S_D_UNDER5': '7%',\n",
       " 'S_D_OVER64': '16%',\n",
       " 'S_D_UNEMPLOYED': '5%',\n",
       " 'S_D_INDEX': '36%',\n",
       " 'S_E_LEAD': '0.23',\n",
       " 'S_E_DIESEL': '0.201',\n",
       " 'S_E_CANCER': '29',\n",
       " 'S_E_RESP': '0.39',\n",
       " 'S_E_TRAFFIC': '250',\n",
       " 'S_E_NPDES': '0.088',\n",
       " 'S_E_NPL': '0.047',\n",
       " 'S_E_RMP': '0.59',\n",
       " 'S_E_TSDF': '0.87',\n",
       " 'S_E_O3': '46',\n",
       " 'S_E_PM25': '9.64',\n",
       " 'S_E_UST': '1.7',\n",
       " 'S_D_MINOR_PER': '  5',\n",
       " 'S_D_INCOME_PER': ' 33',\n",
       " 'S_D_LESSHS_PER': ' 80',\n",
       " 'S_D_LING_PER': ' 90',\n",
       " 'S_D_UNDER5_PER': '  0',\n",
       " 'S_D_OVER64_PER': ' 85',\n",
       " 'S_D_UNEMPLOYED_PER': ' 45',\n",
       " 'S_D_INDEX_PER': ' 14',\n",
       " 'S_E_LEAD_PER': ' 88',\n",
       " 'S_E_DIESEL_PER': '  0',\n",
       " 'S_E_CANCER_PER': ' 16',\n",
       " 'S_E_RESP_PER': '  1',\n",
       " 'S_E_TRAFFIC_PER': '  2',\n",
       " 'S_E_NPDES_PER': ' 51',\n",
       " 'S_E_NPL_PER': ' 35',\n",
       " 'S_E_RMP_PER': ' 14',\n",
       " 'S_E_TSDF_PER': '  2',\n",
       " 'S_E_O3_PER': ' 99',\n",
       " 'S_E_PM25_PER': '  0',\n",
       " 'S_E_UST_PER': '  0',\n",
       " 'S_P_LEAD': ' 49',\n",
       " 'S_P_DIESEL': '  0',\n",
       " 'S_P_CANCER': '  4',\n",
       " 'S_P_RESP': '  0',\n",
       " 'S_P_TRAFFIC': '  3',\n",
       " 'S_P_NPDES': ' 31',\n",
       " 'S_P_NPL': ' 24',\n",
       " 'S_P_RMP': ' 10',\n",
       " 'S_P_TSDF': '  0',\n",
       " 'S_P_O3': ' 61',\n",
       " 'S_P_PM25': '  0',\n",
       " 'S_P_UST': '  0',\n",
       " 'N_D_MINOR': '40%',\n",
       " 'N_D_INCOME': '30%',\n",
       " 'N_D_LESSHS': '12%',\n",
       " 'N_D_LING': '5%',\n",
       " 'N_D_UNDER5': '6%',\n",
       " 'N_D_OVER64': '16%',\n",
       " 'N_D_UNEMPLOYED': '5%',\n",
       " 'N_D_INDEX': '35%',\n",
       " 'N_E_LEAD': '0.27',\n",
       " 'N_E_DIESEL': '0.294',\n",
       " 'N_E_CANCER': '28',\n",
       " 'N_E_RESP': '0.36',\n",
       " 'N_E_TRAFFIC': '760',\n",
       " 'N_E_NPDES': '12',\n",
       " 'N_E_NPL': '0.13',\n",
       " 'N_E_RMP': '0.77',\n",
       " 'N_E_TSDF': '2.2',\n",
       " 'N_E_O3': '42.5',\n",
       " 'N_E_PM25': '8.67',\n",
       " 'N_E_UST': '3.9',\n",
       " 'N_D_MINOR_PER': '21',\n",
       " 'N_D_INCOME_PER': '49',\n",
       " 'N_D_LESSHS_PER': '78',\n",
       " 'N_D_LING_PER': '78',\n",
       " 'N_D_UNDER5_PER': '0',\n",
       " 'N_D_OVER64_PER': '80',\n",
       " 'N_D_UNEMPLOYED_PER': '46',\n",
       " 'N_D_INDEX_PER': '27',\n",
       " 'N_E_LEAD_PER': '82',\n",
       " 'N_E_DIESEL_PER': '3',\n",
       " 'N_E_CANCER_PER': '34',\n",
       " 'N_E_RESP_PER': '16',\n",
       " 'N_E_TRAFFIC_PER': '1',\n",
       " 'N_E_NPDES_PER': '41',\n",
       " 'N_E_NPL_PER': '16',\n",
       " 'N_E_RMP_PER': '12',\n",
       " 'N_E_TSDF_PER': '1',\n",
       " 'N_E_O3_PER': '88',\n",
       " 'N_E_PM25_PER': '9',\n",
       " 'N_E_UST_PER': '0',\n",
       " 'N_P_LEAD': '57',\n",
       " 'N_P_DIESEL': '4',\n",
       " 'N_P_CANCER': '17',\n",
       " 'N_P_RESP': '10',\n",
       " 'N_P_TRAFFIC': '2',\n",
       " 'N_P_NPDES': '34',\n",
       " 'N_P_NPL': '15',\n",
       " 'N_P_RMP': '14',\n",
       " 'N_P_TSDF': '0',\n",
       " 'N_P_O3': '61',\n",
       " 'N_P_PM25': '11',\n",
       " 'N_P_UST': '28',\n",
       " 'stateAbbr': 'OK',\n",
       " 'stateName': 'OKLAHOMA',\n",
       " 'epaRegion': '6',\n",
       " 'totalPop': '8',\n",
       " 'NUM_NPL': '0',\n",
       " 'NUM_TSDF': '0',\n",
       " 'geometry': {'spatialReference': {'wkid': 4326},\n",
       "  'x': -100.26887260436821,\n",
       "  'y': 36.64757689108075},\n",
       " 'statLayerCount': '1',\n",
       " 'statLayerZeroPopCount': '0',\n",
       " 'weightLayerCount': '2',\n",
       " 'timeSeconds': '0.2219781',\n",
       " 'distance': '1',\n",
       " 'unit': '9035',\n",
       " 'areaid': None,\n",
       " 'areatype': None,\n",
       " 'statlevel': 'blockgroup',\n",
       " 'inputAreaMiles': '3.14'}"
      ]
     },
     "execution_count": 197,
     "metadata": {},
     "output_type": "execute_result"
    }
   ],
   "source": [
    "response.json()"
   ]
  },
  {
   "cell_type": "code",
   "execution_count": null,
   "id": "6f3ed3cf",
   "metadata": {},
   "outputs": [],
   "source": []
  }
 ],
 "metadata": {
  "kernelspec": {
   "display_name": "nuveen_esg",
   "language": "python",
   "name": "python3"
  },
  "language_info": {
   "codemirror_mode": {
    "name": "ipython",
    "version": 3
   },
   "file_extension": ".py",
   "mimetype": "text/x-python",
   "name": "python",
   "nbconvert_exporter": "python",
   "pygments_lexer": "ipython3",
   "version": "3.9.12"
  },
  "vscode": {
   "interpreter": {
    "hash": "d5c7462d504368385234dbcf688f7537a286fd905c58a62145a3e1f2fa1e0e40"
   }
  }
 },
 "nbformat": 4,
 "nbformat_minor": 5
}
