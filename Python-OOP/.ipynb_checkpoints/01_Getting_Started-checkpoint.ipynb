{
 "cells": [
  {
   "cell_type": "markdown",
   "id": "6caf1aa1-6f2d-466a-9e61-f9767dc03e97",
   "metadata": {},
   "source": [
    "# Classes and Objects\n",
    "\n",
    "## Challenge 1: Square Numbers and Return Sum\n",
    "\n",
    "Implement a class `Point` that has three properties and a method. All these attributes (properties and methods) should be public. This problem can be broken down into two tasks:\n",
    "* Implement a constructor to innitialize the values of three properties: `x`, `y`, and `z`\n",
    "* Impelment a method, `sqSum()` in the `Point` class which squares `x`, `y`, and `z` and returns their sum. "
   ]
  },
  {
   "cell_type": "code",
   "execution_count": 1,
   "id": "313dde18-fa6f-4cd5-9a13-02d7f7c65e45",
   "metadata": {},
   "outputs": [],
   "source": [
    "class Point:\n",
    "    def __init__(self, x, y, z):\n",
    "        self.x = x\n",
    "        self.y = y\n",
    "        self.z = z\n",
    "    \n",
    "    def sqSum(self):\n",
    "        return self.x**2 + self.y**2 + self.z**2"
   ]
  },
  {
   "cell_type": "code",
   "execution_count": 2,
   "id": "fe8faf6a-e6cd-4d0c-8aff-4219e8415cd7",
   "metadata": {},
   "outputs": [
    {
     "name": "stdout",
     "output_type": "stream",
     "text": [
      "29\n"
     ]
    }
   ],
   "source": [
    "p1 = Point(2, 3, 4)\n",
    "ss = p1.sqSum()\n",
    "print(ss)"
   ]
  },
  {
   "cell_type": "markdown",
   "id": "d623ab9b-871f-416f-aa22-18274aa4b4de",
   "metadata": {},
   "source": [
    "## Challenge 2: Calculate the Student's Performance \n",
    "Implement a `Student` class that has four properties and two methods. All attributes are public. \n",
    "* Implement a constructor to initialize the values of four properties: `name`, `phy`, `chem`, `bio`\n",
    "* Implement a `totalObtained` method in the `Student` class to calculate total marks of a student\n",
    "* Using `totalObtained`, implement another method, `percentage`, in the `Student` class that calculates the percentage of students marks. Assume the total marks sfo each subject are 100, combined marks of 3 sobjects are 300. "
   ]
  },
  {
   "cell_type": "code",
   "execution_count": 3,
   "id": "4b168a7a-19d7-42ac-989a-808dc6d0e65a",
   "metadata": {},
   "outputs": [],
   "source": [
    "class Student:\n",
    "    def __init__(self, name, phy, chem, bio):\n",
    "        self.name = name\n",
    "        self.phy = phy\n",
    "        self.chem = chem\n",
    "        self.bio = bio\n",
    "\n",
    "    def totalObtained(self):\n",
    "        return self.phy + self.chem + self.bio\n",
    "\n",
    "    def percentage(self):\n",
    "        return self.totalObtained() / 300 * 100\n"
   ]
  },
  {
   "cell_type": "code",
   "execution_count": 4,
   "id": "59bac2eb-7dcd-4e7d-88a8-a908346dc253",
   "metadata": {},
   "outputs": [
    {
     "name": "stdout",
     "output_type": "stream",
     "text": [
      "210\n",
      "70.0\n"
     ]
    }
   ],
   "source": [
    "demo1=Student(\"Mark\",80,90,40)\n",
    "print(demo1.totalObtained())\n",
    "print(demo1.percentage())"
   ]
  },
  {
   "cell_type": "markdown",
   "id": "3aa96e33-39f1-4117-a05c-ab671db02122",
   "metadata": {},
   "source": [
    "## Challenge 3: Implement a Calculator Class\n",
    "Write a Python class called `Calculator` by:\n",
    "* Implement an initializer to intialize the values of num1 and num2\n",
    "* add, subtract, multiply, divide methods "
   ]
  },
  {
   "cell_type": "code",
   "execution_count": 5,
   "id": "51455991-e4cf-4eaf-9a2c-adb457d8f6c4",
   "metadata": {},
   "outputs": [],
   "source": [
    "class Calculator:\n",
    "    def __init__(self, num1, num2):\n",
    "        self.num1 = num1\n",
    "        self.num2 = num2\n",
    "\n",
    "    def add(self):\n",
    "        return self.num1 + self.num2\n",
    "\n",
    "    def subtract(self):\n",
    "        return self.num2 - self.num1\n",
    "\n",
    "    def multiply(self):\n",
    "        return self.num1 * self.num2\n",
    "\n",
    "    def divide(self):\n",
    "        return self.num2 / self.num1\n"
   ]
  },
  {
   "cell_type": "code",
   "execution_count": 7,
   "id": "c2465fb9-bacc-4147-a24b-f03d27534593",
   "metadata": {},
   "outputs": [
    {
     "name": "stdout",
     "output_type": "stream",
     "text": [
      "104\n",
      "84\n",
      "940\n",
      "9.4\n"
     ]
    }
   ],
   "source": [
    "obj = Calculator(10, 94);\n",
    "print(obj.add())\n",
    "print(obj.subtract())\n",
    "print(obj.multiply())\n",
    "print(obj.divide())"
   ]
  },
  {
   "cell_type": "markdown",
   "id": "0bfdf3de-b155-4675-98d4-2f74212c4adf",
   "metadata": {},
   "source": [
    "# Information Hiding\n",
    "\n",
    "**Encapsulation** refers to binding data and the methods that manipulate the data together in a single unit (class). \n",
    "* Convention: declare all variables of a class private. \n",
    "* This only allows one to implement public methods to let the outside world communicate with the class. \n",
    "\n",
    "## Challenge 1: Implement Rectangle Class Using Encapsulation\n",
    "\n",
    "* Implement a constructor to initialize two private properties: `length` and `width`\n",
    "* Implement a method, `area()` in the `Rectangle` class that returns the product of `length` and `width`.\n",
    "* Implement a method, `perimeter` in `Rectangle` that returns the perimeter."
   ]
  },
  {
   "cell_type": "code",
   "execution_count": 1,
   "id": "7846c27c-1966-432e-8b24-5e4796663bf0",
   "metadata": {},
   "outputs": [],
   "source": [
    "class Rectangle:\n",
    "    def __init__(self, length, width):\n",
    "        self.__length = length\n",
    "        self.__width = width\n",
    "\n",
    "    def area(self):\n",
    "        return self.__length * self.__width\n",
    "\n",
    "    def perimeter(self):\n",
    "        return 2 * (self.__length + self.__width)"
   ]
  },
  {
   "cell_type": "code",
   "execution_count": 5,
   "id": "6ef6bfc9-795d-4aaa-af2d-3f7489451b1c",
   "metadata": {},
   "outputs": [
    {
     "name": "stdout",
     "output_type": "stream",
     "text": [
      "Area: 20\n",
      "Perimeter: 18\n"
     ]
    }
   ],
   "source": [
    "r = Rectangle(4,5)\n",
    "print(f\"Area: {r.area()}\")\n",
    "print(f\"Perimeter: {r.perimeter()}\")"
   ]
  },
  {
   "cell_type": "markdown",
   "id": "b3eca0a0-e7c0-47a9-929b-c3b0183eaeca",
   "metadata": {},
   "source": [
    "## Challenge 2: Implement the Complete Student Task\n",
    "\n",
    "Implement the `Student` class:\n",
    "* Private properties: `name`, `rollNumber`\n",
    "* Getter/setter methods: `getName()`, `setName()`, `getRollNumber()`, `setRollNumber()`"
   ]
  },
  {
   "cell_type": "code",
   "execution_count": 6,
   "id": "0a97f371-e6ce-4bdd-9187-7b046bce4742",
   "metadata": {},
   "outputs": [],
   "source": [
    "class Student:\n",
    "    def __init__(self,  name=None, rollNumber=None):\n",
    "        self.__name = name\n",
    "        self.__rollNumber = rollNumber\n",
    "        \n",
    "    def setName(self, name):\n",
    "        self.__name = name\n",
    "\n",
    "    def getName(self):\n",
    "        return self.__name\n",
    "\n",
    "    def setRollNumber(self, rollNumber):\n",
    "        self.__rollNumber = rollNumber\n",
    "\n",
    "    def getRollNumber(self):\n",
    "        return self.__rollNumber"
   ]
  },
  {
   "cell_type": "code",
   "execution_count": 9,
   "id": "2851b86f-6515-43df-bb5c-e1c349da8ac7",
   "metadata": {},
   "outputs": [
    {
     "name": "stdout",
     "output_type": "stream",
     "text": [
      "Student Name: chad\n",
      "Student Name: 12\n"
     ]
    }
   ],
   "source": [
    "s = Student()\n",
    "s.setName(\"chad\")\n",
    "print(f\"Student Name: {s.getName()}\")\n",
    "s.setRollNumber(12)\n",
    "print(f\"Student Name: {s.getRollNumber()}\")"
   ]
  },
  {
   "cell_type": "markdown",
   "id": "172c0044-fd5d-4e06-a3ce-bdac9b062156",
   "metadata": {},
   "source": [
    "# Inheritance\n",
    "\n",
    "* A Parent Class (aka super class or base class): allows the re-use of its *public* properties in another class\n",
    "* A Child Class (aka sub class or derived class): *inherits* or *extends* the parent class. \n",
    "\n",
    "```{python}\n",
    "class ParentClass:\n",
    "    # attributes of the parent class\n",
    "\n",
    "\n",
    "class ChildClass(ParentClass):\n",
    "    # attributes of the child class\n",
    "```\n",
    "\n",
    "`super()` is used in a child class to refer to the parent class without explicitly naming it:"
   ]
  },
  {
   "cell_type": "code",
   "execution_count": 1,
   "id": "72d39c1f-7c09-44e7-94a5-c0b986dee7d1",
   "metadata": {},
   "outputs": [
    {
     "name": "stdout",
     "output_type": "stream",
     "text": [
      "Fuel cap from the Vehicle Class: 90\n",
      "Fuel cap from the Car Class: 50\n"
     ]
    }
   ],
   "source": [
    "class Vehicle:  # defining the parent class\n",
    "    fuelCap = 90\n",
    "\n",
    "\n",
    "class Car(Vehicle):  # defining the child class\n",
    "    fuelCap = 50\n",
    "\n",
    "    def display(self):\n",
    "        # accessing fuelCap from the Vehicle class using super()\n",
    "        print(\"Fuel cap from the Vehicle Class:\", super().fuelCap)\n",
    "\n",
    "        # accessing fuelCap from the Car class using self\n",
    "        print(\"Fuel cap from the Car Class:\", self.fuelCap)\n",
    "\n",
    "\n",
    "obj1 = Car()  # creating a car object\n",
    "obj1.display()  # calling the Car class method display()"
   ]
  },
  {
   "cell_type": "markdown",
   "id": "f8592bda-3660-4bdd-8362-d45522e9927e",
   "metadata": {},
   "source": [
    "**Types of inheritance:**\n",
    "* Single inheritance: only a single class extending from another class (e.g., vehicle -> car)\n",
    "* Multi level inheritance: class is derived from a class which itself is derived from another class (e.g., vehicle -> car -> hybrid)\n",
    "* Hierarchical inheritance: more than one class extends from the same base class (e.g., vehicle --> car / vehicle --> truck)\n",
    "* Multiple inheritance: when a class is derived from more than one base class (e.g. hybrid engine is an electric engine / hybrid engine also a combustion engine)\n",
    "* Hyrbid inheritance: combination of multiple and multi-level inheritance: \n",
    "    * a combustion engine is an engine\n",
    "    * an electric engine is an engine\n",
    "    * hybrid engine is an electric engine and a combustion engine \n",
    "    \n",
    "**Advantages of Inheritance:**\n",
    "* reusability\n",
    "* code moditification: don't need to modify the same code in multiple places\n",
    "* extensibility: easy way to upgrade or enhance specific parts of a product without changing core attributes \n",
    "* data hiding: base class can keep things private so derived class can't alter it (encapsulation)\n"
   ]
  },
  {
   "cell_type": "markdown",
   "id": "92ac3f34-0129-44d0-828c-5da513f8b449",
   "metadata": {},
   "source": [
    "## Challenge 1: Implement a Banking Account\n",
    "\n",
    "Implement parent class `Account` and child class, `SavingsAccount` and then:\n",
    "* Impelement properties as instance variables and set them to None or 0\n",
    "    * `Account`: `title`, `balance`\n",
    "    * `SavingsAccount`: `interestRate`\n",
    "* Create an ititializer for `Account`\n",
    "* Impelment properties as instance variables and set them to None or 0\n",
    "* Create an initializer for the `SavingsAccount` class using the initializer of the `Account` class"
   ]
  },
  {
   "cell_type": "code",
   "execution_count": 2,
   "id": "337208fb-3272-4376-81ec-c05a50334545",
   "metadata": {},
   "outputs": [],
   "source": [
    "class Account:\n",
    "    def __init__(self, title=None, balance=0):\n",
    "        self.title = title\n",
    "        self.balance = balance\n",
    "\n",
    "class SavingsAccount(Account):\n",
    "    def __init__(self, title=None, balance=0, interestRate=0):\n",
    "        super().__init__(title, balance)\n",
    "        self.interestRate = interestRate"
   ]
  },
  {
   "cell_type": "code",
   "execution_count": 6,
   "id": "c3b7920d-5f84-4373-a17b-35f78183ec4b",
   "metadata": {},
   "outputs": [
    {
     "name": "stdout",
     "output_type": "stream",
     "text": [
      "Mark\n",
      "5000\n",
      "5\n"
     ]
    }
   ],
   "source": [
    "print(SavingsAccount(\"Mark\", 5000, 5).title)\n",
    "print(SavingsAccount(\"Mark\", 5000, 5).balance)\n",
    "print(SavingsAccount(\"Mark\", 5000, 5).interestRate)"
   ]
  },
  {
   "cell_type": "code",
   "execution_count": null,
   "id": "7cb64426-6fe2-4b12-9f92-14075643389b",
   "metadata": {},
   "outputs": [],
   "source": []
  }
 ],
 "metadata": {
  "kernelspec": {
   "display_name": "Python 3 (ipykernel)",
   "language": "python",
   "name": "python3"
  },
  "language_info": {
   "codemirror_mode": {
    "name": "ipython",
    "version": 3
   },
   "file_extension": ".py",
   "mimetype": "text/x-python",
   "name": "python",
   "nbconvert_exporter": "python",
   "pygments_lexer": "ipython3",
   "version": "3.10.8"
  },
  "toc-autonumbering": true
 },
 "nbformat": 4,
 "nbformat_minor": 5
}
