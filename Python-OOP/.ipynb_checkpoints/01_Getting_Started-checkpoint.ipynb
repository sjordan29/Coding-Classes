{
 "cells": [
  {
   "cell_type": "markdown",
   "id": "6caf1aa1-6f2d-466a-9e61-f9767dc03e97",
   "metadata": {},
   "source": [
    "# Classes and Objects\n",
    "\n",
    "## Challenge 1: Square Numbers and Return Sum\n",
    "\n",
    "Implement a class `Point` that has three properties and a method. All these attributes (properties and methods) should be public. This problem can be broken down into two tasks:\n",
    "* Implement a constructor to innitialize the values of three properties: `x`, `y`, and `z`\n",
    "* Impelment a method, `sqSum()` in the `Point` class which squares `x`, `y`, and `z` and returns their sum. "
   ]
  },
  {
   "cell_type": "code",
   "execution_count": 1,
   "id": "313dde18-fa6f-4cd5-9a13-02d7f7c65e45",
   "metadata": {},
   "outputs": [],
   "source": [
    "class Point:\n",
    "    def __init__(self, x, y, z):\n",
    "        self.x = x\n",
    "        self.y = y\n",
    "        self.z = z\n",
    "    \n",
    "    def sqSum(self):\n",
    "        return self.x**2 + self.y**2 + self.z**2"
   ]
  },
  {
   "cell_type": "code",
   "execution_count": 2,
   "id": "fe8faf6a-e6cd-4d0c-8aff-4219e8415cd7",
   "metadata": {},
   "outputs": [
    {
     "name": "stdout",
     "output_type": "stream",
     "text": [
      "29\n"
     ]
    }
   ],
   "source": [
    "p1 = Point(2, 3, 4)\n",
    "ss = p1.sqSum()\n",
    "print(ss)"
   ]
  },
  {
   "cell_type": "markdown",
   "id": "d623ab9b-871f-416f-aa22-18274aa4b4de",
   "metadata": {},
   "source": [
    "## Challenge 2: Calculate the Student's Performance \n",
    "Implement a `Student` class that has four properties and two methods. All attributes are public. \n",
    "* Implement a constructor to initialize the values of four properties: `name`, `phy`, `chem`, `bio`\n",
    "* Implement a `totalObtained` method in the `Student` class to calculate total marks of a student\n",
    "* Using `totalObtained`, implement another method, `percentage`, in the `Student` class that calculates the percentage of students marks. Assume the total marks sfo each subject are 100, combined marks of 3 sobjects are 300. "
   ]
  },
  {
   "cell_type": "code",
   "execution_count": 3,
   "id": "4b168a7a-19d7-42ac-989a-808dc6d0e65a",
   "metadata": {},
   "outputs": [],
   "source": [
    "class Student:\n",
    "    def __init__(self, name, phy, chem, bio):\n",
    "        self.name = name\n",
    "        self.phy = phy\n",
    "        self.chem = chem\n",
    "        self.bio = bio\n",
    "\n",
    "    def totalObtained(self):\n",
    "        return self.phy + self.chem + self.bio\n",
    "\n",
    "    def percentage(self):\n",
    "        return self.totalObtained() / 300 * 100\n"
   ]
  },
  {
   "cell_type": "code",
   "execution_count": 4,
   "id": "59bac2eb-7dcd-4e7d-88a8-a908346dc253",
   "metadata": {},
   "outputs": [
    {
     "name": "stdout",
     "output_type": "stream",
     "text": [
      "210\n",
      "70.0\n"
     ]
    }
   ],
   "source": [
    "demo1=Student(\"Mark\",80,90,40)\n",
    "print(demo1.totalObtained())\n",
    "print(demo1.percentage())"
   ]
  },
  {
   "cell_type": "markdown",
   "id": "3aa96e33-39f1-4117-a05c-ab671db02122",
   "metadata": {},
   "source": [
    "## Challenge 3: Implement a Calculator Class\n",
    "Write a Python class called `Calculator` by:\n",
    "* Implement an initializer to intialize the values of num1 and num2\n",
    "* add, subtract, multiply, divide methods "
   ]
  },
  {
   "cell_type": "code",
   "execution_count": 5,
   "id": "51455991-e4cf-4eaf-9a2c-adb457d8f6c4",
   "metadata": {},
   "outputs": [],
   "source": [
    "class Calculator:\n",
    "    def __init__(self, num1, num2):\n",
    "        self.num1 = num1\n",
    "        self.num2 = num2\n",
    "\n",
    "    def add(self):\n",
    "        return self.num1 + self.num2\n",
    "\n",
    "    def subtract(self):\n",
    "        return self.num2 - self.num1\n",
    "\n",
    "    def multiply(self):\n",
    "        return self.num1 * self.num2\n",
    "\n",
    "    def divide(self):\n",
    "        return self.num2 / self.num1\n"
   ]
  },
  {
   "cell_type": "code",
   "execution_count": 7,
   "id": "c2465fb9-bacc-4147-a24b-f03d27534593",
   "metadata": {},
   "outputs": [
    {
     "name": "stdout",
     "output_type": "stream",
     "text": [
      "104\n",
      "84\n",
      "940\n",
      "9.4\n"
     ]
    }
   ],
   "source": [
    "obj = Calculator(10, 94);\n",
    "print(obj.add())\n",
    "print(obj.subtract())\n",
    "print(obj.multiply())\n",
    "print(obj.divide())"
   ]
  },
  {
   "cell_type": "markdown",
   "id": "0bfdf3de-b155-4675-98d4-2f74212c4adf",
   "metadata": {},
   "source": [
    "# Information Hiding\n",
    "\n",
    "**Encapsulation** refers to binding data and the methods that manipulate the data together in a single unit (class). \n",
    "* Convention: declare all variables of a class private. \n",
    "* This only allows one to implement public methods to let the outside world communicate with the class. \n",
    "\n",
    "## Challenge 1: Implement Rectangle Class Using Encapsulation\n",
    "\n",
    "* Implement a constructor to initialize two private properties: `length` and `width`\n",
    "* Implement a method, `area()` in the `Rectangle` class that returns the product of `length` and `width`.\n",
    "* Implement a method, `perimeter` in `Rectangle` that returns the perimeter."
   ]
  },
  {
   "cell_type": "code",
   "execution_count": 1,
   "id": "7846c27c-1966-432e-8b24-5e4796663bf0",
   "metadata": {},
   "outputs": [],
   "source": [
    "class Rectangle:\n",
    "    def __init__(self, length, width):\n",
    "        self.__length = length\n",
    "        self.__width = width\n",
    "\n",
    "    def area(self):\n",
    "        return self.__length * self.__width\n",
    "\n",
    "    def perimeter(self):\n",
    "        return 2 * (self.__length + self.__width)"
   ]
  },
  {
   "cell_type": "code",
   "execution_count": 5,
   "id": "6ef6bfc9-795d-4aaa-af2d-3f7489451b1c",
   "metadata": {},
   "outputs": [
    {
     "name": "stdout",
     "output_type": "stream",
     "text": [
      "Area: 20\n",
      "Perimeter: 18\n"
     ]
    }
   ],
   "source": [
    "r = Rectangle(4,5)\n",
    "print(f\"Area: {r.area()}\")\n",
    "print(f\"Perimeter: {r.perimeter()}\")"
   ]
  },
  {
   "cell_type": "markdown",
   "id": "b3eca0a0-e7c0-47a9-929b-c3b0183eaeca",
   "metadata": {},
   "source": [
    "# Challenge 2: Implement the Complete Student Task\n",
    "\n",
    "Implement the `Student` class:\n",
    "* Private properties: `name`, `rollNumber`\n",
    "* Getter/setter methods: `getName()`, `setName()`, `getRollNumber()`, `setRollNumber()`"
   ]
  },
  {
   "cell_type": "code",
   "execution_count": 6,
   "id": "0a97f371-e6ce-4bdd-9187-7b046bce4742",
   "metadata": {},
   "outputs": [],
   "source": [
    "class Student:\n",
    "    def __init__(self,  name=None, rollNumber=None):\n",
    "        self.__name = name\n",
    "        self.__rollNumber = rollNumber\n",
    "        \n",
    "    def setName(self, name):\n",
    "        self.__name = name\n",
    "\n",
    "    def getName(self):\n",
    "        return self.__name\n",
    "\n",
    "    def setRollNumber(self, rollNumber):\n",
    "        self.__rollNumber = rollNumber\n",
    "\n",
    "    def getRollNumber(self):\n",
    "        return self.__rollNumber"
   ]
  },
  {
   "cell_type": "code",
   "execution_count": 9,
   "id": "2851b86f-6515-43df-bb5c-e1c349da8ac7",
   "metadata": {},
   "outputs": [
    {
     "name": "stdout",
     "output_type": "stream",
     "text": [
      "Student Name: chad\n",
      "Student Name: 12\n"
     ]
    }
   ],
   "source": [
    "s = Student()\n",
    "s.setName(\"chad\")\n",
    "print(f\"Student Name: {s.getName()}\")\n",
    "s.setRollNumber(12)\n",
    "print(f\"Student Name: {s.getRollNumber()}\")"
   ]
  },
  {
   "cell_type": "code",
   "execution_count": null,
   "id": "b81eb070-413d-482a-ad5e-406244a072b3",
   "metadata": {},
   "outputs": [],
   "source": []
  }
 ],
 "metadata": {
  "kernelspec": {
   "display_name": "Python 3 (ipykernel)",
   "language": "python",
   "name": "python3"
  },
  "language_info": {
   "codemirror_mode": {
    "name": "ipython",
    "version": 3
   },
   "file_extension": ".py",
   "mimetype": "text/x-python",
   "name": "python",
   "nbconvert_exporter": "python",
   "pygments_lexer": "ipython3",
   "version": "3.10.8"
  },
  "toc-autonumbering": true
 },
 "nbformat": 4,
 "nbformat_minor": 5
}
